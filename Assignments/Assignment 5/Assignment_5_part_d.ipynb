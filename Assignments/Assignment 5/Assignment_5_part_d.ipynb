{
  "nbformat": 4,
  "nbformat_minor": 0,
  "metadata": {
    "colab": {
      "name": "Assignment 5 part d.ipynb",
      "provenance": [],
      "collapsed_sections": [],
      "machine_shape": "hm",
      "authorship_tag": "ABX9TyO2CtPYTPL01wInGN3sBrDF",
      "include_colab_link": true
    },
    "kernelspec": {
      "name": "python3",
      "display_name": "Python 3"
    },
    "language_info": {
      "name": "python"
    },
    "accelerator": "GPU"
  },
  "cells": [
    {
      "cell_type": "markdown",
      "metadata": {
        "id": "view-in-github",
        "colab_type": "text"
      },
      "source": [
        "<a href=\"https://colab.research.google.com/github/bhuvanabasapur/CMPE-258/blob/master/Assignments/Assignment%205/Assignment_5_part_d.ipynb\" target=\"_parent\"><img src=\"https://colab.research.google.com/assets/colab-badge.svg\" alt=\"Open In Colab\"/></a>"
      ]
    },
    {
      "cell_type": "code",
      "metadata": {
        "id": "7pfJxJWkifiy"
      },
      "source": [
        "import numpy as np\n",
        "import pandas as pd\n",
        "\n",
        "import matplotlib.pyplot as plt\n",
        "import seaborn as sns\n",
        "% matplotlib inline\n",
        "\n",
        "plt.style.use('seaborn-whitegrid')\n",
        "\n",
        "import warnings\n",
        "warnings.filterwarnings('ignore')"
      ],
      "execution_count": 1,
      "outputs": []
    },
    {
      "cell_type": "code",
      "metadata": {
        "id": "kY0rlH-9inei"
      },
      "source": [
        "!pip install -q kaggle\n",
        "from google.colab import files\n"
      ],
      "execution_count": 4,
      "outputs": []
    },
    {
      "cell_type": "code",
      "metadata": {
        "colab": {
          "resources": {
            "http://localhost:8080/nbextensions/google.colab/files.js": {
              "data": "Ly8gQ29weXJpZ2h0IDIwMTcgR29vZ2xlIExMQwovLwovLyBMaWNlbnNlZCB1bmRlciB0aGUgQXBhY2hlIExpY2Vuc2UsIFZlcnNpb24gMi4wICh0aGUgIkxpY2Vuc2UiKTsKLy8geW91IG1heSBub3QgdXNlIHRoaXMgZmlsZSBleGNlcHQgaW4gY29tcGxpYW5jZSB3aXRoIHRoZSBMaWNlbnNlLgovLyBZb3UgbWF5IG9idGFpbiBhIGNvcHkgb2YgdGhlIExpY2Vuc2UgYXQKLy8KLy8gICAgICBodHRwOi8vd3d3LmFwYWNoZS5vcmcvbGljZW5zZXMvTElDRU5TRS0yLjAKLy8KLy8gVW5sZXNzIHJlcXVpcmVkIGJ5IGFwcGxpY2FibGUgbGF3IG9yIGFncmVlZCB0byBpbiB3cml0aW5nLCBzb2Z0d2FyZQovLyBkaXN0cmlidXRlZCB1bmRlciB0aGUgTGljZW5zZSBpcyBkaXN0cmlidXRlZCBvbiBhbiAiQVMgSVMiIEJBU0lTLAovLyBXSVRIT1VUIFdBUlJBTlRJRVMgT1IgQ09ORElUSU9OUyBPRiBBTlkgS0lORCwgZWl0aGVyIGV4cHJlc3Mgb3IgaW1wbGllZC4KLy8gU2VlIHRoZSBMaWNlbnNlIGZvciB0aGUgc3BlY2lmaWMgbGFuZ3VhZ2UgZ292ZXJuaW5nIHBlcm1pc3Npb25zIGFuZAovLyBsaW1pdGF0aW9ucyB1bmRlciB0aGUgTGljZW5zZS4KCi8qKgogKiBAZmlsZW92ZXJ2aWV3IEhlbHBlcnMgZm9yIGdvb2dsZS5jb2xhYiBQeXRob24gbW9kdWxlLgogKi8KKGZ1bmN0aW9uKHNjb3BlKSB7CmZ1bmN0aW9uIHNwYW4odGV4dCwgc3R5bGVBdHRyaWJ1dGVzID0ge30pIHsKICBjb25zdCBlbGVtZW50ID0gZG9jdW1lbnQuY3JlYXRlRWxlbWVudCgnc3BhbicpOwogIGVsZW1lbnQudGV4dENvbnRlbnQgPSB0ZXh0OwogIGZvciAoY29uc3Qga2V5IG9mIE9iamVjdC5rZXlzKHN0eWxlQXR0cmlidXRlcykpIHsKICAgIGVsZW1lbnQuc3R5bGVba2V5XSA9IHN0eWxlQXR0cmlidXRlc1trZXldOwogIH0KICByZXR1cm4gZWxlbWVudDsKfQoKLy8gTWF4IG51bWJlciBvZiBieXRlcyB3aGljaCB3aWxsIGJlIHVwbG9hZGVkIGF0IGEgdGltZS4KY29uc3QgTUFYX1BBWUxPQURfU0laRSA9IDEwMCAqIDEwMjQ7CgpmdW5jdGlvbiBfdXBsb2FkRmlsZXMoaW5wdXRJZCwgb3V0cHV0SWQpIHsKICBjb25zdCBzdGVwcyA9IHVwbG9hZEZpbGVzU3RlcChpbnB1dElkLCBvdXRwdXRJZCk7CiAgY29uc3Qgb3V0cHV0RWxlbWVudCA9IGRvY3VtZW50LmdldEVsZW1lbnRCeUlkKG91dHB1dElkKTsKICAvLyBDYWNoZSBzdGVwcyBvbiB0aGUgb3V0cHV0RWxlbWVudCB0byBtYWtlIGl0IGF2YWlsYWJsZSBmb3IgdGhlIG5leHQgY2FsbAogIC8vIHRvIHVwbG9hZEZpbGVzQ29udGludWUgZnJvbSBQeXRob24uCiAgb3V0cHV0RWxlbWVudC5zdGVwcyA9IHN0ZXBzOwoKICByZXR1cm4gX3VwbG9hZEZpbGVzQ29udGludWUob3V0cHV0SWQpOwp9CgovLyBUaGlzIGlzIHJvdWdobHkgYW4gYXN5bmMgZ2VuZXJhdG9yIChub3Qgc3VwcG9ydGVkIGluIHRoZSBicm93c2VyIHlldCksCi8vIHdoZXJlIHRoZXJlIGFyZSBtdWx0aXBsZSBhc3luY2hyb25vdXMgc3RlcHMgYW5kIHRoZSBQeXRob24gc2lkZSBpcyBnb2luZwovLyB0byBwb2xsIGZvciBjb21wbGV0aW9uIG9mIGVhY2ggc3RlcC4KLy8gVGhpcyB1c2VzIGEgUHJvbWlzZSB0byBibG9jayB0aGUgcHl0aG9uIHNpZGUgb24gY29tcGxldGlvbiBvZiBlYWNoIHN0ZXAsCi8vIHRoZW4gcGFzc2VzIHRoZSByZXN1bHQgb2YgdGhlIHByZXZpb3VzIHN0ZXAgYXMgdGhlIGlucHV0IHRvIHRoZSBuZXh0IHN0ZXAuCmZ1bmN0aW9uIF91cGxvYWRGaWxlc0NvbnRpbnVlKG91dHB1dElkKSB7CiAgY29uc3Qgb3V0cHV0RWxlbWVudCA9IGRvY3VtZW50LmdldEVsZW1lbnRCeUlkKG91dHB1dElkKTsKICBjb25zdCBzdGVwcyA9IG91dHB1dEVsZW1lbnQuc3RlcHM7CgogIGNvbnN0IG5leHQgPSBzdGVwcy5uZXh0KG91dHB1dEVsZW1lbnQubGFzdFByb21pc2VWYWx1ZSk7CiAgcmV0dXJuIFByb21pc2UucmVzb2x2ZShuZXh0LnZhbHVlLnByb21pc2UpLnRoZW4oKHZhbHVlKSA9PiB7CiAgICAvLyBDYWNoZSB0aGUgbGFzdCBwcm9taXNlIHZhbHVlIHRvIG1ha2UgaXQgYXZhaWxhYmxlIHRvIHRoZSBuZXh0CiAgICAvLyBzdGVwIG9mIHRoZSBnZW5lcmF0b3IuCiAgICBvdXRwdXRFbGVtZW50Lmxhc3RQcm9taXNlVmFsdWUgPSB2YWx1ZTsKICAgIHJldHVybiBuZXh0LnZhbHVlLnJlc3BvbnNlOwogIH0pOwp9CgovKioKICogR2VuZXJhdG9yIGZ1bmN0aW9uIHdoaWNoIGlzIGNhbGxlZCBiZXR3ZWVuIGVhY2ggYXN5bmMgc3RlcCBvZiB0aGUgdXBsb2FkCiAqIHByb2Nlc3MuCiAqIEBwYXJhbSB7c3RyaW5nfSBpbnB1dElkIEVsZW1lbnQgSUQgb2YgdGhlIGlucHV0IGZpbGUgcGlja2VyIGVsZW1lbnQuCiAqIEBwYXJhbSB7c3RyaW5nfSBvdXRwdXRJZCBFbGVtZW50IElEIG9mIHRoZSBvdXRwdXQgZGlzcGxheS4KICogQHJldHVybiB7IUl0ZXJhYmxlPCFPYmplY3Q+fSBJdGVyYWJsZSBvZiBuZXh0IHN0ZXBzLgogKi8KZnVuY3Rpb24qIHVwbG9hZEZpbGVzU3RlcChpbnB1dElkLCBvdXRwdXRJZCkgewogIGNvbnN0IGlucHV0RWxlbWVudCA9IGRvY3VtZW50LmdldEVsZW1lbnRCeUlkKGlucHV0SWQpOwogIGlucHV0RWxlbWVudC5kaXNhYmxlZCA9IGZhbHNlOwoKICBjb25zdCBvdXRwdXRFbGVtZW50ID0gZG9jdW1lbnQuZ2V0RWxlbWVudEJ5SWQob3V0cHV0SWQpOwogIG91dHB1dEVsZW1lbnQuaW5uZXJIVE1MID0gJyc7CgogIGNvbnN0IHBpY2tlZFByb21pc2UgPSBuZXcgUHJvbWlzZSgocmVzb2x2ZSkgPT4gewogICAgaW5wdXRFbGVtZW50LmFkZEV2ZW50TGlzdGVuZXIoJ2NoYW5nZScsIChlKSA9PiB7CiAgICAgIHJlc29sdmUoZS50YXJnZXQuZmlsZXMpOwogICAgfSk7CiAgfSk7CgogIGNvbnN0IGNhbmNlbCA9IGRvY3VtZW50LmNyZWF0ZUVsZW1lbnQoJ2J1dHRvbicpOwogIGlucHV0RWxlbWVudC5wYXJlbnRFbGVtZW50LmFwcGVuZENoaWxkKGNhbmNlbCk7CiAgY2FuY2VsLnRleHRDb250ZW50ID0gJ0NhbmNlbCB1cGxvYWQnOwogIGNvbnN0IGNhbmNlbFByb21pc2UgPSBuZXcgUHJvbWlzZSgocmVzb2x2ZSkgPT4gewogICAgY2FuY2VsLm9uY2xpY2sgPSAoKSA9PiB7CiAgICAgIHJlc29sdmUobnVsbCk7CiAgICB9OwogIH0pOwoKICAvLyBXYWl0IGZvciB0aGUgdXNlciB0byBwaWNrIHRoZSBmaWxlcy4KICBjb25zdCBmaWxlcyA9IHlpZWxkIHsKICAgIHByb21pc2U6IFByb21pc2UucmFjZShbcGlja2VkUHJvbWlzZSwgY2FuY2VsUHJvbWlzZV0pLAogICAgcmVzcG9uc2U6IHsKICAgICAgYWN0aW9uOiAnc3RhcnRpbmcnLAogICAgfQogIH07CgogIGNhbmNlbC5yZW1vdmUoKTsKCiAgLy8gRGlzYWJsZSB0aGUgaW5wdXQgZWxlbWVudCBzaW5jZSBmdXJ0aGVyIHBpY2tzIGFyZSBub3QgYWxsb3dlZC4KICBpbnB1dEVsZW1lbnQuZGlzYWJsZWQgPSB0cnVlOwoKICBpZiAoIWZpbGVzKSB7CiAgICByZXR1cm4gewogICAgICByZXNwb25zZTogewogICAgICAgIGFjdGlvbjogJ2NvbXBsZXRlJywKICAgICAgfQogICAgfTsKICB9CgogIGZvciAoY29uc3QgZmlsZSBvZiBmaWxlcykgewogICAgY29uc3QgbGkgPSBkb2N1bWVudC5jcmVhdGVFbGVtZW50KCdsaScpOwogICAgbGkuYXBwZW5kKHNwYW4oZmlsZS5uYW1lLCB7Zm9udFdlaWdodDogJ2JvbGQnfSkpOwogICAgbGkuYXBwZW5kKHNwYW4oCiAgICAgICAgYCgke2ZpbGUudHlwZSB8fCAnbi9hJ30pIC0gJHtmaWxlLnNpemV9IGJ5dGVzLCBgICsKICAgICAgICBgbGFzdCBtb2RpZmllZDogJHsKICAgICAgICAgICAgZmlsZS5sYXN0TW9kaWZpZWREYXRlID8gZmlsZS5sYXN0TW9kaWZpZWREYXRlLnRvTG9jYWxlRGF0ZVN0cmluZygpIDoKICAgICAgICAgICAgICAgICAgICAgICAgICAgICAgICAgICAgJ24vYSd9IC0gYCkpOwogICAgY29uc3QgcGVyY2VudCA9IHNwYW4oJzAlIGRvbmUnKTsKICAgIGxpLmFwcGVuZENoaWxkKHBlcmNlbnQpOwoKICAgIG91dHB1dEVsZW1lbnQuYXBwZW5kQ2hpbGQobGkpOwoKICAgIGNvbnN0IGZpbGVEYXRhUHJvbWlzZSA9IG5ldyBQcm9taXNlKChyZXNvbHZlKSA9PiB7CiAgICAgIGNvbnN0IHJlYWRlciA9IG5ldyBGaWxlUmVhZGVyKCk7CiAgICAgIHJlYWRlci5vbmxvYWQgPSAoZSkgPT4gewogICAgICAgIHJlc29sdmUoZS50YXJnZXQucmVzdWx0KTsKICAgICAgfTsKICAgICAgcmVhZGVyLnJlYWRBc0FycmF5QnVmZmVyKGZpbGUpOwogICAgfSk7CiAgICAvLyBXYWl0IGZvciB0aGUgZGF0YSB0byBiZSByZWFkeS4KICAgIGxldCBmaWxlRGF0YSA9IHlpZWxkIHsKICAgICAgcHJvbWlzZTogZmlsZURhdGFQcm9taXNlLAogICAgICByZXNwb25zZTogewogICAgICAgIGFjdGlvbjogJ2NvbnRpbnVlJywKICAgICAgfQogICAgfTsKCiAgICAvLyBVc2UgYSBjaHVua2VkIHNlbmRpbmcgdG8gYXZvaWQgbWVzc2FnZSBzaXplIGxpbWl0cy4gU2VlIGIvNjIxMTU2NjAuCiAgICBsZXQgcG9zaXRpb24gPSAwOwogICAgd2hpbGUgKHBvc2l0aW9uIDwgZmlsZURhdGEuYnl0ZUxlbmd0aCkgewogICAgICBjb25zdCBsZW5ndGggPSBNYXRoLm1pbihmaWxlRGF0YS5ieXRlTGVuZ3RoIC0gcG9zaXRpb24sIE1BWF9QQVlMT0FEX1NJWkUpOwogICAgICBjb25zdCBjaHVuayA9IG5ldyBVaW50OEFycmF5KGZpbGVEYXRhLCBwb3NpdGlvbiwgbGVuZ3RoKTsKICAgICAgcG9zaXRpb24gKz0gbGVuZ3RoOwoKICAgICAgY29uc3QgYmFzZTY0ID0gYnRvYShTdHJpbmcuZnJvbUNoYXJDb2RlLmFwcGx5KG51bGwsIGNodW5rKSk7CiAgICAgIHlpZWxkIHsKICAgICAgICByZXNwb25zZTogewogICAgICAgICAgYWN0aW9uOiAnYXBwZW5kJywKICAgICAgICAgIGZpbGU6IGZpbGUubmFtZSwKICAgICAgICAgIGRhdGE6IGJhc2U2NCwKICAgICAgICB9LAogICAgICB9OwogICAgICBwZXJjZW50LnRleHRDb250ZW50ID0KICAgICAgICAgIGAke01hdGgucm91bmQoKHBvc2l0aW9uIC8gZmlsZURhdGEuYnl0ZUxlbmd0aCkgKiAxMDApfSUgZG9uZWA7CiAgICB9CiAgfQoKICAvLyBBbGwgZG9uZS4KICB5aWVsZCB7CiAgICByZXNwb25zZTogewogICAgICBhY3Rpb246ICdjb21wbGV0ZScsCiAgICB9CiAgfTsKfQoKc2NvcGUuZ29vZ2xlID0gc2NvcGUuZ29vZ2xlIHx8IHt9OwpzY29wZS5nb29nbGUuY29sYWIgPSBzY29wZS5nb29nbGUuY29sYWIgfHwge307CnNjb3BlLmdvb2dsZS5jb2xhYi5fZmlsZXMgPSB7CiAgX3VwbG9hZEZpbGVzLAogIF91cGxvYWRGaWxlc0NvbnRpbnVlLAp9Owp9KShzZWxmKTsK",
              "ok": true,
              "headers": [
                [
                  "content-type",
                  "application/javascript"
                ]
              ],
              "status": 200,
              "status_text": ""
            }
          },
          "base_uri": "https://localhost:8080/",
          "height": 72
        },
        "id": "cRsq7cTIiswj",
        "outputId": "310ef186-61b0-4524-a0d4-bc2f4e19d2cd"
      },
      "source": [
        "uploaded = files.upload()"
      ],
      "execution_count": 5,
      "outputs": [
        {
          "output_type": "display_data",
          "data": {
            "text/html": [
              "\n",
              "     <input type=\"file\" id=\"files-8dad14ca-dbe8-4338-862c-205178b1d116\" name=\"files[]\" multiple disabled\n",
              "        style=\"border:none\" />\n",
              "     <output id=\"result-8dad14ca-dbe8-4338-862c-205178b1d116\">\n",
              "      Upload widget is only available when the cell has been executed in the\n",
              "      current browser session. Please rerun this cell to enable.\n",
              "      </output>\n",
              "      <script src=\"/nbextensions/google.colab/files.js\"></script> "
            ],
            "text/plain": [
              "<IPython.core.display.HTML object>"
            ]
          },
          "metadata": {
            "tags": []
          }
        },
        {
          "output_type": "stream",
          "text": [
            "Saving kaggle.json to kaggle.json\n"
          ],
          "name": "stdout"
        }
      ]
    },
    {
      "cell_type": "code",
      "metadata": {
        "id": "KD19NTrfi9WY"
      },
      "source": [
        "!mkdir ~/.kaggle\n",
        "!cp kaggle.json ~/.kaggle/\n",
        "!chmod 600 ~/.kaggle/kaggle.json"
      ],
      "execution_count": 6,
      "outputs": []
    },
    {
      "cell_type": "code",
      "metadata": {
        "colab": {
          "base_uri": "https://localhost:8080/"
        },
        "id": "RXmzGOk5i_u9",
        "outputId": "df7bf3ed-ea30-419b-afdb-74dc7acca43d"
      },
      "source": [
        "!kaggle competitions download -c new-york-city-taxi-fare-prediction "
      ],
      "execution_count": 7,
      "outputs": [
        {
          "output_type": "stream",
          "text": [
            "Warning: Looks like you're using an outdated API Version, please consider updating (server 1.5.12 / client 1.5.4)\n",
            "Downloading test.csv to /content\n",
            "  0% 0.00/960k [00:00<?, ?B/s]\n",
            "100% 960k/960k [00:00<00:00, 65.7MB/s]\n",
            "Downloading GCP-Coupons-Instructions.rtf to /content\n",
            "  0% 0.00/486 [00:00<?, ?B/s]\n",
            "100% 486/486 [00:00<00:00, 409kB/s]\n",
            "Downloading sample_submission.csv to /content\n",
            "  0% 0.00/335k [00:00<?, ?B/s]\n",
            "100% 335k/335k [00:00<00:00, 105MB/s]\n",
            "Downloading train.csv.zip to /content\n",
            "100% 1.55G/1.56G [00:14<00:00, 112MB/s] \n",
            "100% 1.56G/1.56G [00:14<00:00, 114MB/s]\n"
          ],
          "name": "stdout"
        }
      ]
    },
    {
      "cell_type": "code",
      "metadata": {
        "id": "JphKfNkYjdGD"
      },
      "source": [
        "#unzip train.csv.zip\n",
        "import zipfile\n",
        "zf = '/content/train.csv.zip'\n",
        "zip_ref = zipfile.ZipFile(zf, 'r')\n",
        "zip_ref.extractall('/content')\n",
        "zip_ref.close()"
      ],
      "execution_count": 8,
      "outputs": []
    },
    {
      "cell_type": "code",
      "metadata": {
        "id": "iplySMorjqGp"
      },
      "source": [
        "df = pd.read_csv('/content/train.csv', parse_dates=True, infer_datetime_format=True)\n",
        "df = df.dropna()"
      ],
      "execution_count": 15,
      "outputs": []
    },
    {
      "cell_type": "code",
      "metadata": {
        "colab": {
          "base_uri": "https://localhost:8080/",
          "height": 297
        },
        "id": "FifB3MA5jzwY",
        "outputId": "70d8ff9c-36fc-4732-9e46-a34dae675c80"
      },
      "source": [
        "df.describe()"
      ],
      "execution_count": 16,
      "outputs": [
        {
          "output_type": "execute_result",
          "data": {
            "text/html": [
              "<div>\n",
              "<style scoped>\n",
              "    .dataframe tbody tr th:only-of-type {\n",
              "        vertical-align: middle;\n",
              "    }\n",
              "\n",
              "    .dataframe tbody tr th {\n",
              "        vertical-align: top;\n",
              "    }\n",
              "\n",
              "    .dataframe thead th {\n",
              "        text-align: right;\n",
              "    }\n",
              "</style>\n",
              "<table border=\"1\" class=\"dataframe\">\n",
              "  <thead>\n",
              "    <tr style=\"text-align: right;\">\n",
              "      <th></th>\n",
              "      <th>fare_amount</th>\n",
              "      <th>pickup_longitude</th>\n",
              "      <th>pickup_latitude</th>\n",
              "      <th>dropoff_longitude</th>\n",
              "      <th>dropoff_latitude</th>\n",
              "      <th>passenger_count</th>\n",
              "    </tr>\n",
              "  </thead>\n",
              "  <tbody>\n",
              "    <tr>\n",
              "      <th>count</th>\n",
              "      <td>5.542348e+07</td>\n",
              "      <td>5.542348e+07</td>\n",
              "      <td>5.542348e+07</td>\n",
              "      <td>5.542348e+07</td>\n",
              "      <td>5.542348e+07</td>\n",
              "      <td>5.542348e+07</td>\n",
              "    </tr>\n",
              "    <tr>\n",
              "      <th>mean</th>\n",
              "      <td>1.134500e+01</td>\n",
              "      <td>-7.250973e+01</td>\n",
              "      <td>3.991982e+01</td>\n",
              "      <td>-7.251121e+01</td>\n",
              "      <td>3.992068e+01</td>\n",
              "      <td>1.685391e+00</td>\n",
              "    </tr>\n",
              "    <tr>\n",
              "      <th>std</th>\n",
              "      <td>2.071087e+01</td>\n",
              "      <td>1.284878e+01</td>\n",
              "      <td>9.642324e+00</td>\n",
              "      <td>1.278220e+01</td>\n",
              "      <td>9.633346e+00</td>\n",
              "      <td>1.327662e+00</td>\n",
              "    </tr>\n",
              "    <tr>\n",
              "      <th>min</th>\n",
              "      <td>-3.000000e+02</td>\n",
              "      <td>-3.442060e+03</td>\n",
              "      <td>-3.492264e+03</td>\n",
              "      <td>-3.442025e+03</td>\n",
              "      <td>-3.547887e+03</td>\n",
              "      <td>0.000000e+00</td>\n",
              "    </tr>\n",
              "    <tr>\n",
              "      <th>25%</th>\n",
              "      <td>6.000000e+00</td>\n",
              "      <td>-7.399207e+01</td>\n",
              "      <td>4.073493e+01</td>\n",
              "      <td>-7.399140e+01</td>\n",
              "      <td>4.073403e+01</td>\n",
              "      <td>1.000000e+00</td>\n",
              "    </tr>\n",
              "    <tr>\n",
              "      <th>50%</th>\n",
              "      <td>8.500000e+00</td>\n",
              "      <td>-7.398180e+01</td>\n",
              "      <td>4.075265e+01</td>\n",
              "      <td>-7.398015e+01</td>\n",
              "      <td>4.075316e+01</td>\n",
              "      <td>1.000000e+00</td>\n",
              "    </tr>\n",
              "    <tr>\n",
              "      <th>75%</th>\n",
              "      <td>1.250000e+01</td>\n",
              "      <td>-7.396708e+01</td>\n",
              "      <td>4.076713e+01</td>\n",
              "      <td>-7.396367e+01</td>\n",
              "      <td>4.076810e+01</td>\n",
              "      <td>2.000000e+00</td>\n",
              "    </tr>\n",
              "    <tr>\n",
              "      <th>max</th>\n",
              "      <td>9.396336e+04</td>\n",
              "      <td>3.457626e+03</td>\n",
              "      <td>3.408790e+03</td>\n",
              "      <td>3.457622e+03</td>\n",
              "      <td>3.537133e+03</td>\n",
              "      <td>2.080000e+02</td>\n",
              "    </tr>\n",
              "  </tbody>\n",
              "</table>\n",
              "</div>"
            ],
            "text/plain": [
              "        fare_amount  pickup_longitude  ...  dropoff_latitude  passenger_count\n",
              "count  5.542348e+07      5.542348e+07  ...      5.542348e+07     5.542348e+07\n",
              "mean   1.134500e+01     -7.250973e+01  ...      3.992068e+01     1.685391e+00\n",
              "std    2.071087e+01      1.284878e+01  ...      9.633346e+00     1.327662e+00\n",
              "min   -3.000000e+02     -3.442060e+03  ...     -3.547887e+03     0.000000e+00\n",
              "25%    6.000000e+00     -7.399207e+01  ...      4.073403e+01     1.000000e+00\n",
              "50%    8.500000e+00     -7.398180e+01  ...      4.075316e+01     1.000000e+00\n",
              "75%    1.250000e+01     -7.396708e+01  ...      4.076810e+01     2.000000e+00\n",
              "max    9.396336e+04      3.457626e+03  ...      3.537133e+03     2.080000e+02\n",
              "\n",
              "[8 rows x 6 columns]"
            ]
          },
          "metadata": {
            "tags": []
          },
          "execution_count": 16
        }
      ]
    },
    {
      "cell_type": "markdown",
      "metadata": {
        "id": "nEOEZIUFkpH-"
      },
      "source": [
        "# Feature Engineering"
      ]
    },
    {
      "cell_type": "code",
      "metadata": {
        "id": "fiAr9BVqkxAB"
      },
      "source": [
        "def prepare_time_features(df):\n",
        "    df['pickup_datetime'] = df['pickup_datetime'].str.slice(0, 16)\n",
        "    df['pickup_datetime'] = pd.to_datetime(df['pickup_datetime'], utc=True, format='%Y-%m-%d %H:%M')\n",
        "    df['hour_of_day'] = df.pickup_datetime.dt.hour\n",
        "    df['month'] = df.pickup_datetime.dt.month\n",
        "    df[\"year\"] = df.pickup_datetime.dt.year\n",
        "    df[\"weekday\"] = df.pickup_datetime.dt.weekday\n",
        "    return df"
      ],
      "execution_count": 17,
      "outputs": []
    },
    {
      "cell_type": "code",
      "metadata": {
        "id": "2MfC8j90kzjx"
      },
      "source": [
        "def distance(lat1, lon1, lat2, lon2):\n",
        "    p = 0.017453292519943295 # Pi/180\n",
        "    a = 0.5 - np.cos((lat2 - lat1) * p)/2 + np.cos(lat1 * p) * np.cos(lat2 * p) * (1 - np.cos((lon2 - lon1) * p)) / 2\n",
        "    return 0.6213712 * 12742 * np.arcsin(np.sqrt(a))"
      ],
      "execution_count": 18,
      "outputs": []
    },
    {
      "cell_type": "code",
      "metadata": {
        "id": "eXc3Hvv4k2NW"
      },
      "source": [
        "def transform(data):\n",
        "    # Distances to nearby airports, \n",
        "    jfk = (-73.7781, 40.6413)\n",
        "    ewr = (-74.1745, 40.6895)\n",
        "    lgr = (-73.8740, 40.7769)\n",
        "\n",
        "    data['pickup_distance_to_jfk'] = distance(jfk[1], jfk[0],\n",
        "                                         data['pickup_latitude'], data['pickup_longitude'])\n",
        "    data['dropoff_distance_to_jfk'] = distance(jfk[1], jfk[0],\n",
        "                                           data['dropoff_latitude'], data['dropoff_longitude'])\n",
        "    data['pickup_distance_to_ewr'] = distance(ewr[1], ewr[0], \n",
        "                                          data['pickup_latitude'], data['pickup_longitude'])\n",
        "    data['dropoff_distance_to_ewr'] = distance(ewr[1], ewr[0],\n",
        "                                           data['dropoff_latitude'], data['dropoff_longitude'])\n",
        "    data['pickup_distance_to_lgr'] = distance(lgr[1], lgr[0],\n",
        "                                          data['pickup_latitude'], data['pickup_longitude'])\n",
        "    data['dropoff_distance_to_lgr'] = distance(lgr[1], lgr[0],\n",
        "                                           data['dropoff_latitude'], data['dropoff_longitude'])\n",
        "    \n",
        "    return data"
      ],
      "execution_count": 19,
      "outputs": []
    },
    {
      "cell_type": "code",
      "metadata": {
        "id": "5JlsPH41tdsN"
      },
      "source": [
        "df = df.sample(25000)"
      ],
      "execution_count": 20,
      "outputs": []
    },
    {
      "cell_type": "code",
      "metadata": {
        "id": "CqS8Mv5fk5TP"
      },
      "source": [
        "df = prepare_time_features(df)\n",
        "df['distance_miles'] = distance(df.pickup_latitude, df.pickup_longitude,df.dropoff_latitude, df.dropoff_longitude)"
      ],
      "execution_count": 21,
      "outputs": []
    },
    {
      "cell_type": "code",
      "metadata": {
        "id": "xDYvjUfQlD3i"
      },
      "source": [
        "df = transform(df)\n"
      ],
      "execution_count": 22,
      "outputs": []
    },
    {
      "cell_type": "code",
      "metadata": {
        "colab": {
          "base_uri": "https://localhost:8080/",
          "height": 224
        },
        "id": "IAWkxxypn7iX",
        "outputId": "27065958-0a1b-45fd-ca30-bae019f117fb"
      },
      "source": [
        "df_train = df.drop(columns=['key','pickup_datetime'], axis =1)\n",
        "df_train.head()"
      ],
      "execution_count": 23,
      "outputs": [
        {
          "output_type": "execute_result",
          "data": {
            "text/html": [
              "<div>\n",
              "<style scoped>\n",
              "    .dataframe tbody tr th:only-of-type {\n",
              "        vertical-align: middle;\n",
              "    }\n",
              "\n",
              "    .dataframe tbody tr th {\n",
              "        vertical-align: top;\n",
              "    }\n",
              "\n",
              "    .dataframe thead th {\n",
              "        text-align: right;\n",
              "    }\n",
              "</style>\n",
              "<table border=\"1\" class=\"dataframe\">\n",
              "  <thead>\n",
              "    <tr style=\"text-align: right;\">\n",
              "      <th></th>\n",
              "      <th>fare_amount</th>\n",
              "      <th>pickup_longitude</th>\n",
              "      <th>pickup_latitude</th>\n",
              "      <th>dropoff_longitude</th>\n",
              "      <th>dropoff_latitude</th>\n",
              "      <th>passenger_count</th>\n",
              "      <th>hour_of_day</th>\n",
              "      <th>month</th>\n",
              "      <th>year</th>\n",
              "      <th>weekday</th>\n",
              "      <th>distance_miles</th>\n",
              "      <th>pickup_distance_to_jfk</th>\n",
              "      <th>dropoff_distance_to_jfk</th>\n",
              "      <th>pickup_distance_to_ewr</th>\n",
              "      <th>dropoff_distance_to_ewr</th>\n",
              "      <th>pickup_distance_to_lgr</th>\n",
              "      <th>dropoff_distance_to_lgr</th>\n",
              "    </tr>\n",
              "  </thead>\n",
              "  <tbody>\n",
              "    <tr>\n",
              "      <th>31013456</th>\n",
              "      <td>8.5</td>\n",
              "      <td>-73.983132</td>\n",
              "      <td>40.755662</td>\n",
              "      <td>-73.954153</td>\n",
              "      <td>40.779232</td>\n",
              "      <td>1</td>\n",
              "      <td>20</td>\n",
              "      <td>9</td>\n",
              "      <td>2010</td>\n",
              "      <td>5</td>\n",
              "      <td>2.225242</td>\n",
              "      <td>13.333738</td>\n",
              "      <td>13.260599</td>\n",
              "      <td>11.014286</td>\n",
              "      <td>13.096709</td>\n",
              "      <td>5.896374</td>\n",
              "      <td>4.196746</td>\n",
              "    </tr>\n",
              "    <tr>\n",
              "      <th>52201418</th>\n",
              "      <td>7.5</td>\n",
              "      <td>-73.985397</td>\n",
              "      <td>40.748226</td>\n",
              "      <td>-73.992798</td>\n",
              "      <td>40.756687</td>\n",
              "      <td>1</td>\n",
              "      <td>0</td>\n",
              "      <td>1</td>\n",
              "      <td>2015</td>\n",
              "      <td>4</td>\n",
              "      <td>0.701280</td>\n",
              "      <td>13.134290</td>\n",
              "      <td>13.785628</td>\n",
              "      <td>10.701816</td>\n",
              "      <td>10.586685</td>\n",
              "      <td>6.157177</td>\n",
              "      <td>6.371567</td>\n",
              "    </tr>\n",
              "    <tr>\n",
              "      <th>10567337</th>\n",
              "      <td>12.5</td>\n",
              "      <td>-73.954811</td>\n",
              "      <td>40.773453</td>\n",
              "      <td>-73.985184</td>\n",
              "      <td>40.747513</td>\n",
              "      <td>1</td>\n",
              "      <td>22</td>\n",
              "      <td>3</td>\n",
              "      <td>2015</td>\n",
              "      <td>5</td>\n",
              "      <td>2.395595</td>\n",
              "      <td>13.001393</td>\n",
              "      <td>13.097407</td>\n",
              "      <td>12.882145</td>\n",
              "      <td>10.693646</td>\n",
              "      <td>4.234971</td>\n",
              "      <td>6.162685</td>\n",
              "    </tr>\n",
              "    <tr>\n",
              "      <th>34017589</th>\n",
              "      <td>6.5</td>\n",
              "      <td>-73.986239</td>\n",
              "      <td>40.762370</td>\n",
              "      <td>-73.969699</td>\n",
              "      <td>40.762924</td>\n",
              "      <td>1</td>\n",
              "      <td>16</td>\n",
              "      <td>2</td>\n",
              "      <td>2013</td>\n",
              "      <td>2</td>\n",
              "      <td>0.866429</td>\n",
              "      <td>13.741849</td>\n",
              "      <td>13.089648</td>\n",
              "      <td>11.068999</td>\n",
              "      <td>11.863110</td>\n",
              "      <td>5.958340</td>\n",
              "      <td>5.099897</td>\n",
              "    </tr>\n",
              "    <tr>\n",
              "      <th>48139024</th>\n",
              "      <td>8.5</td>\n",
              "      <td>-73.979112</td>\n",
              "      <td>40.763530</td>\n",
              "      <td>-73.993663</td>\n",
              "      <td>40.746932</td>\n",
              "      <td>5</td>\n",
              "      <td>9</td>\n",
              "      <td>9</td>\n",
              "      <td>2011</td>\n",
              "      <td>4</td>\n",
              "      <td>1.376654</td>\n",
              "      <td>13.497521</td>\n",
              "      <td>13.445846</td>\n",
              "      <td>11.438139</td>\n",
              "      <td>10.267790</td>\n",
              "      <td>5.577208</td>\n",
              "      <td>6.595793</td>\n",
              "    </tr>\n",
              "  </tbody>\n",
              "</table>\n",
              "</div>"
            ],
            "text/plain": [
              "          fare_amount  ...  dropoff_distance_to_lgr\n",
              "31013456          8.5  ...                 4.196746\n",
              "52201418          7.5  ...                 6.371567\n",
              "10567337         12.5  ...                 6.162685\n",
              "34017589          6.5  ...                 5.099897\n",
              "48139024          8.5  ...                 6.595793\n",
              "\n",
              "[5 rows x 17 columns]"
            ]
          },
          "metadata": {
            "tags": []
          },
          "execution_count": 23
        }
      ]
    },
    {
      "cell_type": "code",
      "metadata": {
        "id": "Jh-onHDJuHka"
      },
      "source": [
        "df_train.to_csv('NYC_Dtata.csv')"
      ],
      "execution_count": 25,
      "outputs": []
    },
    {
      "cell_type": "code",
      "metadata": {
        "colab": {
          "base_uri": "https://localhost:8080/"
        },
        "id": "SUsQCtJuu951",
        "outputId": "37d83972-877c-4c77-ba96-ce74b48bc36b"
      },
      "source": [
        "df_train = pd.read_csv('NYC_Dtata.csv')\n",
        "df_train.info()"
      ],
      "execution_count": 2,
      "outputs": [
        {
          "output_type": "stream",
          "text": [
            "<class 'pandas.core.frame.DataFrame'>\n",
            "RangeIndex: 25000 entries, 0 to 24999\n",
            "Data columns (total 18 columns):\n",
            " #   Column                   Non-Null Count  Dtype  \n",
            "---  ------                   --------------  -----  \n",
            " 0   Unnamed: 0               25000 non-null  int64  \n",
            " 1   fare_amount              25000 non-null  float64\n",
            " 2   pickup_longitude         25000 non-null  float64\n",
            " 3   pickup_latitude          25000 non-null  float64\n",
            " 4   dropoff_longitude        25000 non-null  float64\n",
            " 5   dropoff_latitude         25000 non-null  float64\n",
            " 6   passenger_count          25000 non-null  int64  \n",
            " 7   hour_of_day              25000 non-null  int64  \n",
            " 8   month                    25000 non-null  int64  \n",
            " 9   year                     25000 non-null  int64  \n",
            " 10  weekday                  25000 non-null  int64  \n",
            " 11  distance_miles           25000 non-null  float64\n",
            " 12  pickup_distance_to_jfk   25000 non-null  float64\n",
            " 13  dropoff_distance_to_jfk  25000 non-null  float64\n",
            " 14  pickup_distance_to_ewr   25000 non-null  float64\n",
            " 15  dropoff_distance_to_ewr  25000 non-null  float64\n",
            " 16  pickup_distance_to_lgr   25000 non-null  float64\n",
            " 17  dropoff_distance_to_lgr  25000 non-null  float64\n",
            "dtypes: float64(12), int64(6)\n",
            "memory usage: 3.4 MB\n"
          ],
          "name": "stdout"
        }
      ]
    },
    {
      "cell_type": "code",
      "metadata": {
        "id": "uG1VPhX2lMU6"
      },
      "source": [
        "from sklearn.model_selection import train_test_split \n",
        "X_train, X_test, y_train, y_test = train_test_split(df_train.drop('fare_amount', axis=1),\n",
        "                                                    df_train['fare_amount'], test_size=0.3, random_state = 42)\n"
      ],
      "execution_count": 3,
      "outputs": []
    },
    {
      "cell_type": "code",
      "metadata": {
        "colab": {
          "base_uri": "https://localhost:8080/"
        },
        "id": "_egjzcJbqn6C",
        "outputId": "5acf85c2-9cfd-42c0-9d7f-9cb2f10bfd47"
      },
      "source": [
        "print(X_train.shape)\n",
        "print(y_train.shape)\n",
        "print(X_test.shape)\n",
        "print(y_test.shape)"
      ],
      "execution_count": 4,
      "outputs": [
        {
          "output_type": "stream",
          "text": [
            "(17500, 17)\n",
            "(17500,)\n",
            "(7500, 17)\n",
            "(7500,)\n"
          ],
          "name": "stdout"
        }
      ]
    },
    {
      "cell_type": "markdown",
      "metadata": {
        "id": "wSd_mteklQ5J"
      },
      "source": [
        "# XGBoost Model"
      ]
    },
    {
      "cell_type": "code",
      "metadata": {
        "id": "lG29dbtflT0n"
      },
      "source": [
        "import xgboost as xgb\n",
        "params = {\n",
        "    'max_depth': 8,\n",
        "    'gamma' :0,\n",
        "    'eta':.05, \n",
        "    'subsample': 1,\n",
        "    'colsample_bytree': 0.9, \n",
        "    'objective':'reg:linear',\n",
        "    'eval_metric':'rmse',\n",
        "    'silent': 0\n",
        "}\n"
      ],
      "execution_count": 5,
      "outputs": []
    },
    {
      "cell_type": "code",
      "metadata": {
        "colab": {
          "base_uri": "https://localhost:8080/"
        },
        "id": "On6PmUpslW_D",
        "outputId": "275a44f4-034d-4a94-c89c-95786b6377d9"
      },
      "source": [
        "def XGBmodel(X_train,X_test,y_train,y_test,params):\n",
        "    matrix_train = xgb.DMatrix(X_train,label=y_train)\n",
        "    matrix_test = xgb.DMatrix(X_test,label=y_test)\n",
        "    model=xgb.train(params=params,\n",
        "                    dtrain=matrix_train,num_boost_round=5000, \n",
        "                    early_stopping_rounds=10,evals=[(matrix_train, 'train'),(matrix_test,'test')])\n",
        "    return model\n",
        "model = XGBmodel(X_train,X_test,y_train,y_test,params)"
      ],
      "execution_count": 6,
      "outputs": [
        {
          "output_type": "stream",
          "text": [
            "[10:32:58] WARNING: /workspace/src/objective/regression_obj.cu:152: reg:linear is now deprecated in favor of reg:squarederror.\n",
            "[0]\ttrain-rmse:13.8463\ttest-rmse:14.4225\n",
            "Multiple eval metrics have been passed: 'test-rmse' will be used for early stopping.\n",
            "\n",
            "Will train until test-rmse hasn't improved in 10 rounds.\n",
            "[1]\ttrain-rmse:13.2213\ttest-rmse:13.7955\n",
            "[2]\ttrain-rmse:12.629\ttest-rmse:13.2074\n",
            "[3]\ttrain-rmse:12.0904\ttest-rmse:12.6834\n",
            "[4]\ttrain-rmse:11.5573\ttest-rmse:12.1501\n",
            "[5]\ttrain-rmse:11.0524\ttest-rmse:11.6456\n",
            "[6]\ttrain-rmse:10.5736\ttest-rmse:11.1736\n",
            "[7]\ttrain-rmse:10.1204\ttest-rmse:10.7343\n",
            "[8]\ttrain-rmse:9.69092\ttest-rmse:10.318\n",
            "[9]\ttrain-rmse:9.28517\ttest-rmse:9.92361\n",
            "[10]\ttrain-rmse:8.90151\ttest-rmse:9.55541\n",
            "[11]\ttrain-rmse:8.53867\ttest-rmse:9.20741\n",
            "[12]\ttrain-rmse:8.1966\ttest-rmse:8.88021\n",
            "[13]\ttrain-rmse:7.87373\ttest-rmse:8.57496\n",
            "[14]\ttrain-rmse:7.58069\ttest-rmse:8.30001\n",
            "[15]\ttrain-rmse:7.29219\ttest-rmse:8.0363\n",
            "[16]\ttrain-rmse:7.01919\ttest-rmse:7.78796\n",
            "[17]\ttrain-rmse:6.76203\ttest-rmse:7.55301\n",
            "[18]\ttrain-rmse:6.52112\ttest-rmse:7.33297\n",
            "[19]\ttrain-rmse:6.29388\ttest-rmse:7.12957\n",
            "[20]\ttrain-rmse:6.08115\ttest-rmse:6.94083\n",
            "[21]\ttrain-rmse:5.88115\ttest-rmse:6.76529\n",
            "[22]\ttrain-rmse:5.69184\ttest-rmse:6.60158\n",
            "[23]\ttrain-rmse:5.51894\ttest-rmse:6.45787\n",
            "[24]\ttrain-rmse:5.35175\ttest-rmse:6.31676\n",
            "[25]\ttrain-rmse:5.19797\ttest-rmse:6.19642\n",
            "[26]\ttrain-rmse:5.04802\ttest-rmse:6.07618\n",
            "[27]\ttrain-rmse:4.90998\ttest-rmse:5.96087\n",
            "[28]\ttrain-rmse:4.78099\ttest-rmse:5.85595\n",
            "[29]\ttrain-rmse:4.65912\ttest-rmse:5.76086\n",
            "[30]\ttrain-rmse:4.54468\ttest-rmse:5.66945\n",
            "[31]\ttrain-rmse:4.4387\ttest-rmse:5.59404\n",
            "[32]\ttrain-rmse:4.33735\ttest-rmse:5.51875\n",
            "[33]\ttrain-rmse:4.24417\ttest-rmse:5.44813\n",
            "[34]\ttrain-rmse:4.15522\ttest-rmse:5.38641\n",
            "[35]\ttrain-rmse:4.07401\ttest-rmse:5.32933\n",
            "[36]\ttrain-rmse:3.99765\ttest-rmse:5.27738\n",
            "[37]\ttrain-rmse:3.92674\ttest-rmse:5.22935\n",
            "[38]\ttrain-rmse:3.85864\ttest-rmse:5.18448\n",
            "[39]\ttrain-rmse:3.79618\ttest-rmse:5.14473\n",
            "[40]\ttrain-rmse:3.73656\ttest-rmse:5.10744\n",
            "[41]\ttrain-rmse:3.67855\ttest-rmse:5.07247\n",
            "[42]\ttrain-rmse:3.62627\ttest-rmse:5.03849\n",
            "[43]\ttrain-rmse:3.57742\ttest-rmse:5.00967\n",
            "[44]\ttrain-rmse:3.53368\ttest-rmse:4.98401\n",
            "[45]\ttrain-rmse:3.49059\ttest-rmse:4.96185\n",
            "[46]\ttrain-rmse:3.44884\ttest-rmse:4.94213\n",
            "[47]\ttrain-rmse:3.41212\ttest-rmse:4.92185\n",
            "[48]\ttrain-rmse:3.37763\ttest-rmse:4.90231\n",
            "[49]\ttrain-rmse:3.34369\ttest-rmse:4.88724\n",
            "[50]\ttrain-rmse:3.31328\ttest-rmse:4.87111\n",
            "[51]\ttrain-rmse:3.28421\ttest-rmse:4.85455\n",
            "[52]\ttrain-rmse:3.25619\ttest-rmse:4.84055\n",
            "[53]\ttrain-rmse:3.23144\ttest-rmse:4.828\n",
            "[54]\ttrain-rmse:3.20324\ttest-rmse:4.81725\n",
            "[55]\ttrain-rmse:3.17964\ttest-rmse:4.80665\n",
            "[56]\ttrain-rmse:3.15234\ttest-rmse:4.79805\n",
            "[57]\ttrain-rmse:3.1216\ttest-rmse:4.78763\n",
            "[58]\ttrain-rmse:3.10368\ttest-rmse:4.78009\n",
            "[59]\ttrain-rmse:3.08535\ttest-rmse:4.77064\n",
            "[60]\ttrain-rmse:3.06463\ttest-rmse:4.76234\n",
            "[61]\ttrain-rmse:3.04525\ttest-rmse:4.75369\n",
            "[62]\ttrain-rmse:3.02782\ttest-rmse:4.74781\n",
            "[63]\ttrain-rmse:3.0121\ttest-rmse:4.73976\n",
            "[64]\ttrain-rmse:2.99945\ttest-rmse:4.73489\n",
            "[65]\ttrain-rmse:2.9834\ttest-rmse:4.73134\n",
            "[66]\ttrain-rmse:2.9678\ttest-rmse:4.72428\n",
            "[67]\ttrain-rmse:2.95271\ttest-rmse:4.7205\n",
            "[68]\ttrain-rmse:2.93091\ttest-rmse:4.71844\n",
            "[69]\ttrain-rmse:2.91751\ttest-rmse:4.71612\n",
            "[70]\ttrain-rmse:2.90555\ttest-rmse:4.7136\n",
            "[71]\ttrain-rmse:2.88529\ttest-rmse:4.71323\n",
            "[72]\ttrain-rmse:2.87014\ttest-rmse:4.70915\n",
            "[73]\ttrain-rmse:2.85108\ttest-rmse:4.70598\n",
            "[74]\ttrain-rmse:2.83939\ttest-rmse:4.70141\n",
            "[75]\ttrain-rmse:2.82085\ttest-rmse:4.69822\n",
            "[76]\ttrain-rmse:2.81031\ttest-rmse:4.69505\n",
            "[77]\ttrain-rmse:2.78891\ttest-rmse:4.68846\n",
            "[78]\ttrain-rmse:2.77415\ttest-rmse:4.68619\n",
            "[79]\ttrain-rmse:2.76783\ttest-rmse:4.6845\n",
            "[80]\ttrain-rmse:2.75859\ttest-rmse:4.68303\n",
            "[81]\ttrain-rmse:2.74944\ttest-rmse:4.68149\n",
            "[82]\ttrain-rmse:2.73817\ttest-rmse:4.68051\n",
            "[83]\ttrain-rmse:2.72777\ttest-rmse:4.67708\n",
            "[84]\ttrain-rmse:2.7216\ttest-rmse:4.67621\n",
            "[85]\ttrain-rmse:2.70763\ttest-rmse:4.67564\n",
            "[86]\ttrain-rmse:2.6997\ttest-rmse:4.67166\n",
            "[87]\ttrain-rmse:2.68518\ttest-rmse:4.67245\n",
            "[88]\ttrain-rmse:2.67118\ttest-rmse:4.67043\n",
            "[89]\ttrain-rmse:2.65983\ttest-rmse:4.668\n",
            "[90]\ttrain-rmse:2.65341\ttest-rmse:4.66754\n",
            "[91]\ttrain-rmse:2.64612\ttest-rmse:4.66499\n",
            "[92]\ttrain-rmse:2.62766\ttest-rmse:4.66163\n",
            "[93]\ttrain-rmse:2.61799\ttest-rmse:4.65938\n",
            "[94]\ttrain-rmse:2.60744\ttest-rmse:4.65808\n",
            "[95]\ttrain-rmse:2.59504\ttest-rmse:4.65938\n",
            "[96]\ttrain-rmse:2.58685\ttest-rmse:4.65839\n",
            "[97]\ttrain-rmse:2.56388\ttest-rmse:4.65627\n",
            "[98]\ttrain-rmse:2.55567\ttest-rmse:4.65742\n",
            "[99]\ttrain-rmse:2.54666\ttest-rmse:4.65706\n",
            "[100]\ttrain-rmse:2.53369\ttest-rmse:4.65594\n",
            "[101]\ttrain-rmse:2.52456\ttest-rmse:4.65426\n",
            "[102]\ttrain-rmse:2.51226\ttest-rmse:4.65399\n",
            "[103]\ttrain-rmse:2.50424\ttest-rmse:4.65446\n",
            "[104]\ttrain-rmse:2.49651\ttest-rmse:4.65366\n",
            "[105]\ttrain-rmse:2.49103\ttest-rmse:4.65508\n",
            "[106]\ttrain-rmse:2.47677\ttest-rmse:4.65439\n",
            "[107]\ttrain-rmse:2.47201\ttest-rmse:4.65346\n",
            "[108]\ttrain-rmse:2.44542\ttest-rmse:4.65306\n",
            "[109]\ttrain-rmse:2.43934\ttest-rmse:4.65013\n",
            "[110]\ttrain-rmse:2.43489\ttest-rmse:4.64843\n",
            "[111]\ttrain-rmse:2.42099\ttest-rmse:4.64562\n",
            "[112]\ttrain-rmse:2.40993\ttest-rmse:4.64372\n",
            "[113]\ttrain-rmse:2.39855\ttest-rmse:4.64447\n",
            "[114]\ttrain-rmse:2.38792\ttest-rmse:4.64298\n",
            "[115]\ttrain-rmse:2.37927\ttest-rmse:4.64287\n",
            "[116]\ttrain-rmse:2.37197\ttest-rmse:4.64028\n",
            "[117]\ttrain-rmse:2.36134\ttest-rmse:4.64075\n",
            "[118]\ttrain-rmse:2.34824\ttest-rmse:4.63962\n",
            "[119]\ttrain-rmse:2.33501\ttest-rmse:4.63737\n",
            "[120]\ttrain-rmse:2.32704\ttest-rmse:4.63716\n",
            "[121]\ttrain-rmse:2.31642\ttest-rmse:4.63563\n",
            "[122]\ttrain-rmse:2.31011\ttest-rmse:4.63303\n",
            "[123]\ttrain-rmse:2.30039\ttest-rmse:4.63435\n",
            "[124]\ttrain-rmse:2.29226\ttest-rmse:4.63375\n",
            "[125]\ttrain-rmse:2.28381\ttest-rmse:4.63344\n",
            "[126]\ttrain-rmse:2.2713\ttest-rmse:4.63335\n",
            "[127]\ttrain-rmse:2.26414\ttest-rmse:4.63292\n",
            "[128]\ttrain-rmse:2.2519\ttest-rmse:4.63148\n",
            "[129]\ttrain-rmse:2.24047\ttest-rmse:4.63007\n",
            "[130]\ttrain-rmse:2.23134\ttest-rmse:4.6289\n",
            "[131]\ttrain-rmse:2.22518\ttest-rmse:4.62822\n",
            "[132]\ttrain-rmse:2.21838\ttest-rmse:4.62689\n",
            "[133]\ttrain-rmse:2.21079\ttest-rmse:4.62721\n",
            "[134]\ttrain-rmse:2.20505\ttest-rmse:4.62591\n",
            "[135]\ttrain-rmse:2.19619\ttest-rmse:4.62363\n",
            "[136]\ttrain-rmse:2.18994\ttest-rmse:4.62359\n",
            "[137]\ttrain-rmse:2.18489\ttest-rmse:4.62371\n",
            "[138]\ttrain-rmse:2.17408\ttest-rmse:4.62447\n",
            "[139]\ttrain-rmse:2.16882\ttest-rmse:4.62237\n",
            "[140]\ttrain-rmse:2.16569\ttest-rmse:4.6215\n",
            "[141]\ttrain-rmse:2.15746\ttest-rmse:4.62234\n",
            "[142]\ttrain-rmse:2.14721\ttest-rmse:4.62061\n",
            "[143]\ttrain-rmse:2.14334\ttest-rmse:4.6202\n",
            "[144]\ttrain-rmse:2.13678\ttest-rmse:4.62036\n",
            "[145]\ttrain-rmse:2.12494\ttest-rmse:4.62042\n",
            "[146]\ttrain-rmse:2.121\ttest-rmse:4.62096\n",
            "[147]\ttrain-rmse:2.11677\ttest-rmse:4.62059\n",
            "[148]\ttrain-rmse:2.10932\ttest-rmse:4.62045\n",
            "[149]\ttrain-rmse:2.10398\ttest-rmse:4.62031\n",
            "[150]\ttrain-rmse:2.09714\ttest-rmse:4.62033\n",
            "[151]\ttrain-rmse:2.09232\ttest-rmse:4.62072\n",
            "[152]\ttrain-rmse:2.08887\ttest-rmse:4.62058\n",
            "[153]\ttrain-rmse:2.08161\ttest-rmse:4.61822\n",
            "[154]\ttrain-rmse:2.07215\ttest-rmse:4.61841\n",
            "[155]\ttrain-rmse:2.06935\ttest-rmse:4.61827\n",
            "[156]\ttrain-rmse:2.06226\ttest-rmse:4.61838\n",
            "[157]\ttrain-rmse:2.05654\ttest-rmse:4.61864\n",
            "[158]\ttrain-rmse:2.05103\ttest-rmse:4.61703\n",
            "[159]\ttrain-rmse:2.04443\ttest-rmse:4.61756\n",
            "[160]\ttrain-rmse:2.04265\ttest-rmse:4.617\n",
            "[161]\ttrain-rmse:2.03627\ttest-rmse:4.61654\n",
            "[162]\ttrain-rmse:2.03494\ttest-rmse:4.61653\n",
            "[163]\ttrain-rmse:2.02708\ttest-rmse:4.61604\n",
            "[164]\ttrain-rmse:2.02145\ttest-rmse:4.6162\n",
            "[165]\ttrain-rmse:2.01528\ttest-rmse:4.61543\n",
            "[166]\ttrain-rmse:2.01498\ttest-rmse:4.61489\n",
            "[167]\ttrain-rmse:2.01355\ttest-rmse:4.61478\n",
            "[168]\ttrain-rmse:2.00988\ttest-rmse:4.6149\n",
            "[169]\ttrain-rmse:2.00228\ttest-rmse:4.61363\n",
            "[170]\ttrain-rmse:2.0005\ttest-rmse:4.61294\n",
            "[171]\ttrain-rmse:2.00011\ttest-rmse:4.61245\n",
            "[172]\ttrain-rmse:1.99564\ttest-rmse:4.61241\n",
            "[173]\ttrain-rmse:1.9927\ttest-rmse:4.61301\n",
            "[174]\ttrain-rmse:1.99105\ttest-rmse:4.61315\n",
            "[175]\ttrain-rmse:1.98636\ttest-rmse:4.61294\n",
            "[176]\ttrain-rmse:1.98565\ttest-rmse:4.61247\n",
            "[177]\ttrain-rmse:1.98315\ttest-rmse:4.61198\n",
            "[178]\ttrain-rmse:1.97897\ttest-rmse:4.61113\n",
            "[179]\ttrain-rmse:1.97756\ttest-rmse:4.61118\n",
            "[180]\ttrain-rmse:1.97506\ttest-rmse:4.61108\n",
            "[181]\ttrain-rmse:1.97094\ttest-rmse:4.61101\n",
            "[182]\ttrain-rmse:1.97005\ttest-rmse:4.61146\n",
            "[183]\ttrain-rmse:1.96633\ttest-rmse:4.61143\n",
            "[184]\ttrain-rmse:1.96244\ttest-rmse:4.61106\n",
            "[185]\ttrain-rmse:1.96216\ttest-rmse:4.61063\n",
            "[186]\ttrain-rmse:1.9615\ttest-rmse:4.61031\n",
            "[187]\ttrain-rmse:1.95768\ttest-rmse:4.61026\n",
            "[188]\ttrain-rmse:1.95605\ttest-rmse:4.6099\n",
            "[189]\ttrain-rmse:1.95531\ttest-rmse:4.60933\n",
            "[190]\ttrain-rmse:1.95242\ttest-rmse:4.6086\n",
            "[191]\ttrain-rmse:1.95097\ttest-rmse:4.60881\n",
            "[192]\ttrain-rmse:1.9501\ttest-rmse:4.60877\n",
            "[193]\ttrain-rmse:1.9487\ttest-rmse:4.60844\n",
            "[194]\ttrain-rmse:1.94722\ttest-rmse:4.60886\n",
            "[195]\ttrain-rmse:1.94329\ttest-rmse:4.60906\n",
            "[196]\ttrain-rmse:1.93976\ttest-rmse:4.60898\n",
            "[197]\ttrain-rmse:1.93714\ttest-rmse:4.60855\n",
            "[198]\ttrain-rmse:1.93683\ttest-rmse:4.60818\n",
            "[199]\ttrain-rmse:1.92785\ttest-rmse:4.60715\n",
            "[200]\ttrain-rmse:1.92657\ttest-rmse:4.60741\n",
            "[201]\ttrain-rmse:1.92617\ttest-rmse:4.60718\n",
            "[202]\ttrain-rmse:1.92249\ttest-rmse:4.60729\n",
            "[203]\ttrain-rmse:1.91811\ttest-rmse:4.607\n",
            "[204]\ttrain-rmse:1.91561\ttest-rmse:4.60677\n",
            "[205]\ttrain-rmse:1.91288\ttest-rmse:4.60615\n",
            "[206]\ttrain-rmse:1.90892\ttest-rmse:4.60583\n",
            "[207]\ttrain-rmse:1.90465\ttest-rmse:4.60473\n",
            "[208]\ttrain-rmse:1.90444\ttest-rmse:4.6048\n",
            "[209]\ttrain-rmse:1.89939\ttest-rmse:4.60426\n",
            "[210]\ttrain-rmse:1.89535\ttest-rmse:4.604\n",
            "[211]\ttrain-rmse:1.89508\ttest-rmse:4.60423\n",
            "[212]\ttrain-rmse:1.88874\ttest-rmse:4.60379\n",
            "[213]\ttrain-rmse:1.88762\ttest-rmse:4.60351\n",
            "[214]\ttrain-rmse:1.88739\ttest-rmse:4.60354\n",
            "[215]\ttrain-rmse:1.88438\ttest-rmse:4.60305\n",
            "[216]\ttrain-rmse:1.87689\ttest-rmse:4.6028\n",
            "[217]\ttrain-rmse:1.87432\ttest-rmse:4.60263\n",
            "[218]\ttrain-rmse:1.86982\ttest-rmse:4.60223\n",
            "[219]\ttrain-rmse:1.86708\ttest-rmse:4.60176\n",
            "[220]\ttrain-rmse:1.86328\ttest-rmse:4.60102\n",
            "[221]\ttrain-rmse:1.86306\ttest-rmse:4.60104\n",
            "[222]\ttrain-rmse:1.85771\ttest-rmse:4.60079\n",
            "[223]\ttrain-rmse:1.85295\ttest-rmse:4.60084\n",
            "[224]\ttrain-rmse:1.85237\ttest-rmse:4.60086\n",
            "[225]\ttrain-rmse:1.85217\ttest-rmse:4.60088\n",
            "[226]\ttrain-rmse:1.84776\ttest-rmse:4.60048\n",
            "[227]\ttrain-rmse:1.8412\ttest-rmse:4.60045\n",
            "[228]\ttrain-rmse:1.84105\ttest-rmse:4.60049\n",
            "[229]\ttrain-rmse:1.84018\ttest-rmse:4.60072\n",
            "[230]\ttrain-rmse:1.83772\ttest-rmse:4.60043\n",
            "[231]\ttrain-rmse:1.83655\ttest-rmse:4.60044\n",
            "[232]\ttrain-rmse:1.83203\ttest-rmse:4.60136\n",
            "[233]\ttrain-rmse:1.8316\ttest-rmse:4.60104\n",
            "[234]\ttrain-rmse:1.82848\ttest-rmse:4.60001\n",
            "[235]\ttrain-rmse:1.82763\ttest-rmse:4.60051\n",
            "[236]\ttrain-rmse:1.82419\ttest-rmse:4.60065\n",
            "[237]\ttrain-rmse:1.8193\ttest-rmse:4.59999\n",
            "[238]\ttrain-rmse:1.81706\ttest-rmse:4.59988\n",
            "[239]\ttrain-rmse:1.81461\ttest-rmse:4.60001\n",
            "[240]\ttrain-rmse:1.81137\ttest-rmse:4.59981\n",
            "[241]\ttrain-rmse:1.80982\ttest-rmse:4.59981\n",
            "[242]\ttrain-rmse:1.80924\ttest-rmse:4.59979\n",
            "[243]\ttrain-rmse:1.80871\ttest-rmse:4.59978\n",
            "[244]\ttrain-rmse:1.80815\ttest-rmse:4.59993\n",
            "[245]\ttrain-rmse:1.80541\ttest-rmse:4.59958\n",
            "[246]\ttrain-rmse:1.80391\ttest-rmse:4.59959\n",
            "[247]\ttrain-rmse:1.80138\ttest-rmse:4.60025\n",
            "[248]\ttrain-rmse:1.79719\ttest-rmse:4.60024\n",
            "[249]\ttrain-rmse:1.79703\ttest-rmse:4.60027\n",
            "[250]\ttrain-rmse:1.79686\ttest-rmse:4.5999\n",
            "[251]\ttrain-rmse:1.79663\ttest-rmse:4.59988\n",
            "[252]\ttrain-rmse:1.79384\ttest-rmse:4.59958\n",
            "[253]\ttrain-rmse:1.79249\ttest-rmse:4.59936\n",
            "[254]\ttrain-rmse:1.79084\ttest-rmse:4.59938\n",
            "[255]\ttrain-rmse:1.78573\ttest-rmse:4.5992\n",
            "[256]\ttrain-rmse:1.78304\ttest-rmse:4.5996\n",
            "[257]\ttrain-rmse:1.77823\ttest-rmse:4.5996\n",
            "[258]\ttrain-rmse:1.77757\ttest-rmse:4.59963\n",
            "[259]\ttrain-rmse:1.77289\ttest-rmse:4.59975\n",
            "[260]\ttrain-rmse:1.77108\ttest-rmse:4.59975\n",
            "[261]\ttrain-rmse:1.7709\ttest-rmse:4.59941\n",
            "[262]\ttrain-rmse:1.76897\ttest-rmse:4.59942\n",
            "[263]\ttrain-rmse:1.76471\ttest-rmse:4.59955\n",
            "[264]\ttrain-rmse:1.76393\ttest-rmse:4.60006\n",
            "[265]\ttrain-rmse:1.76373\ttest-rmse:4.60021\n",
            "Stopping. Best iteration:\n",
            "[255]\ttrain-rmse:1.78573\ttest-rmse:4.5992\n",
            "\n"
          ],
          "name": "stdout"
        }
      ]
    }
  ]
}