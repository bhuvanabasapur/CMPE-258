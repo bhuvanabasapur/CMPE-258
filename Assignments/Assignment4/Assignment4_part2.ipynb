{
  "nbformat": 4,
  "nbformat_minor": 0,
  "metadata": {
    "colab": {
      "name": "Assignment4_part2.ipynb",
      "provenance": [],
      "authorship_tag": "ABX9TyNI6pZkITUM2b3okF1DNx46"
    },
    "kernelspec": {
      "name": "python3",
      "display_name": "Python 3"
    },
    "language_info": {
      "name": "python"
    },
    "accelerator": "GPU"
  },
  "cells": [
    {
      "cell_type": "code",
      "metadata": {
        "id": "nuaXBULPCZ6F"
      },
      "source": [
        "import numpy as np\n",
        "import math\n",
        "import itertools\n",
        "import matplotlib.pyplot as plt\n",
        "from keras.datasets import mnist\n",
        "from keras.utils import np_utils\n",
        "from keras.preprocessing.image import ImageDataGenerator\n",
        "from keras.utils.np_utils import to_categorical\n",
        "from keras.layers import Dense, Dropout, Flatten, Conv2D, MaxPool2D\n",
        "from keras.models import Sequential\n",
        "from keras.layers.core import Reshape\n",
        "from sklearn.metrics import confusion_matrix"
      ],
      "execution_count": 22,
      "outputs": []
    },
    {
      "cell_type": "markdown",
      "metadata": {
        "id": "pULcch1EDovx"
      },
      "source": [
        "fetching the data\n",
        "\n"
      ]
    },
    {
      "cell_type": "code",
      "metadata": {
        "colab": {
          "base_uri": "https://localhost:8080/"
        },
        "id": "xZpDC1OfDtTj",
        "outputId": "0f4a13ad-ea64-41e5-e4b4-0a81814b0d19"
      },
      "source": [
        "(X_train, y_train), (X_test, y_test) = mnist.load_data()"
      ],
      "execution_count": 2,
      "outputs": [
        {
          "output_type": "stream",
          "text": [
            "Downloading data from https://storage.googleapis.com/tensorflow/tf-keras-datasets/mnist.npz\n",
            "11493376/11490434 [==============================] - 0s 0us/step\n"
          ],
          "name": "stdout"
        }
      ]
    },
    {
      "cell_type": "code",
      "metadata": {
        "colab": {
          "base_uri": "https://localhost:8080/",
          "height": 373
        },
        "id": "m9gVOJAbDyWj",
        "outputId": "6bb1da8b-4fae-4a6b-d9d1-61e49a05ae64"
      },
      "source": [
        "#Viewing the sample images in training datasets:\n",
        "fig, axes = plt.subplots(2, 5, figsize=(16, 6))\n",
        "for i in range(20):\n",
        "    axes[i//10, i %5].imshow(X_train[i].reshape((28,28)), cmap='gray');\n",
        "    axes[i//10, i %5].axis('off')\n",
        "    axes[i//10, i %5].set_title(f\"target: {y_train[i]}\")"
      ],
      "execution_count": 3,
      "outputs": [
        {
          "output_type": "display_data",
          "data": {
            "image/png": "[encoded data removed]",
            "text/plain": [
              "<Figure size 1152x432 with 10 Axes>"
            ]
          },
          "metadata": {
            "tags": [],
            "needs_background": "light"
          }
        }
      ]
    },
    {
      "cell_type": "code",
      "metadata": {
        "id": "i94V5qtnD3p0"
      },
      "source": [
        "#train test split\n",
        "from sklearn.model_selection import train_test_split\n",
        "X_train, X_val, y_train, y_val = train_test_split(X_train, y_train, test_size=0.10, random_state=42)\n",
        "X_train, X_val = np.expand_dims(X_train, axis=-1), np.expand_dims(X_val, axis=-1)\n",
        "y_train, y_val, true_val = to_categorical(y_train, num_classes=10), to_categorical(y_val, num_classes=10), y_val"
      ],
      "execution_count": 4,
      "outputs": []
    },
    {
      "cell_type": "code",
      "metadata": {
        "id": "mzTJy6HsVVgY"
      },
      "source": [
        "\n",
        "gen = ImageDataGenerator(\n",
        "        featurewise_center=False,  # set input mean to 0 over the dataset\n",
        "        samplewise_center=False,  # set each sample mean to 0\n",
        "        featurewise_std_normalization=False,  # divide inputs by std of the dataset\n",
        "        samplewise_std_normalization=False,  # divide each input by its std\n",
        "        zca_whitening=False,  # apply ZCA whitening\n",
        "        rotation_range=10,  # randomly rotate images in the range (degrees, 0 to 180)\n",
        "        zoom_range = 0.1, # Randomly zoom image \n",
        "        width_shift_range=0.1,  # randomly shift images horizontally (fraction of total width)\n",
        "        height_shift_range=0.1,  # randomly shift images vertically (fraction of total height)\n",
        "        horizontal_flip=False,  # randomly flip images\n",
        "        vertical_flip=False)  # randomly flip images\n",
        "\n",
        "gen.fit(X_train)"
      ],
      "execution_count": 5,
      "outputs": []
    },
    {
      "cell_type": "markdown",
      "metadata": {
        "id": "EWSnBWpmVq42"
      },
      "source": [
        "Build network"
      ]
    },
    {
      "cell_type": "code",
      "metadata": {
        "id": "8FeGw0FLEDHN"
      },
      "source": [
        "def neuralnet():\n",
        "  model = Sequential()\n",
        "  model.add(Conv2D(filters=32, kernel_size=(5,5), padding=\"Same\", activation=\"relu\", input_shape=(28,28,1)))\n",
        "  model.add(Conv2D(filters=32, kernel_size=(5,5), padding=\"Same\", activation=\"relu\"))\n",
        "  model.add(MaxPool2D((2,2)))\n",
        "  model.add(Dropout(0.5))\n",
        "  model.add(Conv2D(filters=63, kernel_size=(3, 3), padding=\"Same\", activation=\"relu\"))\n",
        "  model.add(Conv2D(filters=63, kernel_size=(3, 3), padding=\"Same\", activation=\"relu\"))\n",
        "  model.add(MaxPool2D((2,2), strides=(2,2)))\n",
        "  model.add(Dropout(0.5))\n",
        "  model.add(Flatten())\n",
        "  model.add(Dense(256, activation=\"relu\"))\n",
        "  model.add(Dropout(0.5))\n",
        "  model.add(Dense(10, activation=\"softmax\"))\n",
        "  model.compile(loss=\"categorical_crossentropy\", metrics=['accuracy'], optimizer='sgd')\n",
        "  print(model.summary())\n",
        "\n",
        "  return model"
      ],
      "execution_count": 7,
      "outputs": []
    },
    {
      "cell_type": "code",
      "metadata": {
        "colab": {
          "base_uri": "https://localhost:8080/"
        },
        "id": "_YnRIu6JYBVJ",
        "outputId": "de6593c6-e0d2-4b13-b838-edd7b1cc7611"
      },
      "source": [
        "model = neuralnet()"
      ],
      "execution_count": 8,
      "outputs": [
        {
          "output_type": "stream",
          "text": [
            "Model: \"sequential\"\n",
            "_________________________________________________________________\n",
            "Layer (type)                 Output Shape              Param #   \n",
            "=================================================================\n",
            "conv2d (Conv2D)              (None, 28, 28, 32)        832       \n",
            "_________________________________________________________________\n",
            "conv2d_1 (Conv2D)            (None, 28, 28, 32)        25632     \n",
            "_________________________________________________________________\n",
            "max_pooling2d (MaxPooling2D) (None, 14, 14, 32)        0         \n",
            "_________________________________________________________________\n",
            "dropout (Dropout)            (None, 14, 14, 32)        0         \n",
            "_________________________________________________________________\n",
            "conv2d_2 (Conv2D)            (None, 14, 14, 63)        18207     \n",
            "_________________________________________________________________\n",
            "conv2d_3 (Conv2D)            (None, 14, 14, 63)        35784     \n",
            "_________________________________________________________________\n",
            "max_pooling2d_1 (MaxPooling2 (None, 7, 7, 63)          0         \n",
            "_________________________________________________________________\n",
            "dropout_1 (Dropout)          (None, 7, 7, 63)          0         \n",
            "_________________________________________________________________\n",
            "flatten (Flatten)            (None, 3087)              0         \n",
            "_________________________________________________________________\n",
            "dense (Dense)                (None, 256)               790528    \n",
            "_________________________________________________________________\n",
            "dropout_2 (Dropout)          (None, 256)               0         \n",
            "_________________________________________________________________\n",
            "dense_1 (Dense)              (None, 10)                2570      \n",
            "=================================================================\n",
            "Total params: 873,553\n",
            "Trainable params: 873,553\n",
            "Non-trainable params: 0\n",
            "_________________________________________________________________\n",
            "None\n"
          ],
          "name": "stdout"
        }
      ]
    },
    {
      "cell_type": "markdown",
      "metadata": {
        "id": "tyuc6PrgYH3E"
      },
      "source": [
        "Use Adaptive Learning rate"
      ]
    },
    {
      "cell_type": "code",
      "metadata": {
        "id": "oc9praZ8YFah"
      },
      "source": [
        "from keras.callbacks import ReduceLROnPlateau\n",
        "adaptive_learning_rate = ReduceLROnPlateau(monitor = 'val_accuracy', patience=5,\n",
        "                                           factor=0.5, min_lr=0.00001)"
      ],
      "execution_count": 9,
      "outputs": []
    },
    {
      "cell_type": "markdown",
      "metadata": {
        "id": "Hsu_p7LmYz3s"
      },
      "source": [
        "Fit Model"
      ]
    },
    {
      "cell_type": "code",
      "metadata": {
        "id": "2hAM0mVUEAH9"
      },
      "source": [
        "#hyperparameters:\n",
        "num_epochs = 25\n",
        "learning_rate = 0.1\n",
        "batch_size = 32\n",
        "step_per_echo = math.floor(X_train.shape[0]/batch_size)"
      ],
      "execution_count": 12,
      "outputs": []
    },
    {
      "cell_type": "code",
      "metadata": {
        "colab": {
          "base_uri": "https://localhost:8080/"
        },
        "id": "wNxiHG2SgpB_",
        "outputId": "d2da744f-4c29-4b5c-a720-48248dfb4c3c"
      },
      "source": [
        "pred = model.fit(gen.flow(X_train, y_train, batch_size=batch_size), steps_per_epoch=step_per_echo, epochs=num_epochs, callbacks=[adaptive_learning_rate], validation_data=(X_val, y_val))"
      ],
      "execution_count": 14,
      "outputs": [
        {
          "output_type": "stream",
          "text": [
            "Epoch 1/25\n",
            "1687/1687 [==============================] - 19s 12ms/step - loss: 0.5085 - accuracy: 0.8392 - val_loss: 0.1259 - val_accuracy: 0.9593\n",
            "Epoch 2/25\n",
            "1687/1687 [==============================] - 19s 11ms/step - loss: 0.3836 - accuracy: 0.8801 - val_loss: 0.0981 - val_accuracy: 0.9712\n",
            "Epoch 3/25\n",
            "1687/1687 [==============================] - 20s 12ms/step - loss: 0.3195 - accuracy: 0.9011 - val_loss: 0.1006 - val_accuracy: 0.9688\n",
            "Epoch 4/25\n",
            "1687/1687 [==============================] - 19s 11ms/step - loss: 0.2755 - accuracy: 0.9155 - val_loss: 0.0775 - val_accuracy: 0.9742\n",
            "Epoch 5/25\n",
            "1687/1687 [==============================] - 19s 11ms/step - loss: 0.2433 - accuracy: 0.9258 - val_loss: 0.0660 - val_accuracy: 0.9793\n",
            "Epoch 6/25\n",
            "1687/1687 [==============================] - 19s 12ms/step - loss: 0.2323 - accuracy: 0.9300 - val_loss: 0.0681 - val_accuracy: 0.9768\n",
            "Epoch 7/25\n",
            "1687/1687 [==============================] - 19s 11ms/step - loss: 0.2159 - accuracy: 0.9346 - val_loss: 0.0679 - val_accuracy: 0.9797\n",
            "Epoch 8/25\n",
            "1687/1687 [==============================] - 19s 11ms/step - loss: 0.2008 - accuracy: 0.9391 - val_loss: 0.0661 - val_accuracy: 0.9798\n",
            "Epoch 9/25\n",
            "1687/1687 [==============================] - 20s 12ms/step - loss: 0.1886 - accuracy: 0.9435 - val_loss: 0.0684 - val_accuracy: 0.9780\n",
            "Epoch 10/25\n",
            "1687/1687 [==============================] - 19s 11ms/step - loss: 0.1786 - accuracy: 0.9459 - val_loss: 0.0557 - val_accuracy: 0.9813\n",
            "Epoch 11/25\n",
            "1687/1687 [==============================] - 19s 11ms/step - loss: 0.1746 - accuracy: 0.9480 - val_loss: 0.0581 - val_accuracy: 0.9808\n",
            "Epoch 12/25\n",
            "1687/1687 [==============================] - 19s 11ms/step - loss: 0.1626 - accuracy: 0.9513 - val_loss: 0.0522 - val_accuracy: 0.9837\n",
            "Epoch 13/25\n",
            "1687/1687 [==============================] - 19s 11ms/step - loss: 0.1613 - accuracy: 0.9511 - val_loss: 0.0553 - val_accuracy: 0.9820\n",
            "Epoch 14/25\n",
            "1687/1687 [==============================] - 19s 11ms/step - loss: 0.1543 - accuracy: 0.9534 - val_loss: 0.0539 - val_accuracy: 0.9820\n",
            "Epoch 15/25\n",
            "1687/1687 [==============================] - 19s 11ms/step - loss: 0.1503 - accuracy: 0.9550 - val_loss: 0.0559 - val_accuracy: 0.9837\n",
            "Epoch 16/25\n",
            "1687/1687 [==============================] - 19s 11ms/step - loss: 0.1421 - accuracy: 0.9583 - val_loss: 0.0473 - val_accuracy: 0.9843\n",
            "Epoch 17/25\n",
            "1687/1687 [==============================] - 19s 11ms/step - loss: 0.1420 - accuracy: 0.9580 - val_loss: 0.0532 - val_accuracy: 0.9833\n",
            "Epoch 18/25\n",
            "1687/1687 [==============================] - 19s 12ms/step - loss: 0.1387 - accuracy: 0.9587 - val_loss: 0.0537 - val_accuracy: 0.9830\n",
            "Epoch 19/25\n",
            "1687/1687 [==============================] - 19s 11ms/step - loss: 0.1318 - accuracy: 0.9603 - val_loss: 0.0444 - val_accuracy: 0.9858\n",
            "Epoch 20/25\n",
            "1687/1687 [==============================] - 19s 12ms/step - loss: 0.1292 - accuracy: 0.9614 - val_loss: 0.0502 - val_accuracy: 0.9840\n",
            "Epoch 21/25\n",
            "1687/1687 [==============================] - 19s 11ms/step - loss: 0.1299 - accuracy: 0.9635 - val_loss: 0.0448 - val_accuracy: 0.9862\n",
            "Epoch 22/25\n",
            "1687/1687 [==============================] - 19s 11ms/step - loss: 0.1246 - accuracy: 0.9623 - val_loss: 0.0569 - val_accuracy: 0.9823\n",
            "Epoch 23/25\n",
            "1687/1687 [==============================] - 19s 11ms/step - loss: 0.1221 - accuracy: 0.9632 - val_loss: 0.0442 - val_accuracy: 0.9860\n",
            "Epoch 24/25\n",
            "1687/1687 [==============================] - 19s 11ms/step - loss: 0.1155 - accuracy: 0.9665 - val_loss: 0.0450 - val_accuracy: 0.9848\n",
            "Epoch 25/25\n",
            "1687/1687 [==============================] - 19s 12ms/step - loss: 0.1128 - accuracy: 0.9653 - val_loss: 0.0422 - val_accuracy: 0.9875\n"
          ],
          "name": "stdout"
        }
      ]
    },
    {
      "cell_type": "markdown",
      "metadata": {
        "id": "mYD9cKI9hlsY"
      },
      "source": [
        "Plot of metrics[accuracy]"
      ]
    },
    {
      "cell_type": "code",
      "metadata": {
        "colab": {
          "base_uri": "https://localhost:8080/",
          "height": 265
        },
        "id": "XdIzyi8yhovW",
        "outputId": "9858ce07-78b2-451a-a9dc-dc15a5dc37ad"
      },
      "source": [
        "plt.plot(pred.history[\"accuracy\"], 'g', label='Training Accuracy')\n",
        "plt.plot(pred.history['val_accuracy'], 'b', label='Validation Accuracy')\n",
        "plt.legend(loc='lower right')\n",
        "plt.show()"
      ],
      "execution_count": 17,
      "outputs": [
        {
          "output_type": "display_data",
          "data": {
            "image/png": "[encoded data removed]",
            "text/plain": [
              "<Figure size 432x288 with 1 Axes>"
            ]
          },
          "metadata": {
            "tags": [],
            "needs_background": "light"
          }
        }
      ]
    },
    {
      "cell_type": "code",
      "metadata": {
        "id": "UKSR9Av7jRmx"
      },
      "source": [
        "pred_test = np.argmax(model.predict(X_val), axis=1)"
      ],
      "execution_count": 19,
      "outputs": []
    },
    {
      "cell_type": "code",
      "metadata": {
        "id": "SM7kXD_7hhJ1"
      },
      "source": [
        "#Confusion matrix\n",
        "def plot_cm(true_y, pred_y):\n",
        "  c_matrix = confusion_matrix(true_y, pred_y)\n",
        "  plt.imshow(c_matrix, cmap='Accent')\n",
        "\n",
        "  for i,j in itertools.product(range(c_matrix.shape[0]), range(c_matrix.shape[1])):\n",
        "    plt.text(j, i, c_matrix[i, j], horizontalalignment=\"center\", color=\"white\" if c_matrix[i, j] > (c_matrix.max()/2.0) else \"black\")\n",
        "\n",
        "  plt.title(\"Confusion Matrix\")\n",
        "  plt.ylabel(\"True values\")\n",
        "  plt.xlabel(\"Predicted values\")"
      ],
      "execution_count": 20,
      "outputs": []
    },
    {
      "cell_type": "code",
      "metadata": {
        "colab": {
          "base_uri": "https://localhost:8080/",
          "height": 295
        },
        "id": "08bcMa5gjar5",
        "outputId": "f18846c3-1112-45f2-c0ec-4f3947995111"
      },
      "source": [
        "plot_cm(true_val, pred_test)"
      ],
      "execution_count": 23,
      "outputs": [
        {
          "output_type": "display_data",
          "data": {
            "image/png": "[encoded data removed]",
            "text/plain": [
              "<Figure size 432x288 with 1 Axes>"
            ]
          },
          "metadata": {
            "tags": [],
            "needs_background": "light"
          }
        }
      ]
    }
  ]
}