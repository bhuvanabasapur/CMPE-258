{
  "nbformat": 4,
  "nbformat_minor": 0,
  "metadata": {
    "colab": {
      "name": "Assignment6partb2.ipynb",
      "provenance": [],
      "machine_shape": "hm",
      "authorship_tag": "ABX9TyPc+X2iLgkELS/98+zJxotj",
      "include_colab_link": true
    },
    "kernelspec": {
      "name": "python3",
      "display_name": "Python 3"
    },
    "language_info": {
      "name": "python"
    },
    "accelerator": "GPU",
    "widgets": {
      "application/vnd.jupyter.widget-state+json": {
        "874ff03c3ef64f59b43d68e2d48b1a2e": {
          "model_module": "@jupyter-widgets/controls",
          "model_name": "HBoxModel",
          "state": {
            "_view_name": "HBoxView",
            "_dom_classes": [],
            "_model_name": "HBoxModel",
            "_view_module": "@jupyter-widgets/controls",
            "_model_module_version": "1.5.0",
            "_view_count": null,
            "_view_module_version": "1.5.0",
            "box_style": "",
            "layout": "IPY_MODEL_5b49ed2d17594ff096c470890bf0d454",
            "_model_module": "@jupyter-widgets/controls",
            "children": [
              "IPY_MODEL_621c49c18b484451b573a66ff6736c7f",
              "IPY_MODEL_afb93ae173534591859509408595ff2c"
            ]
          }
        },
        "5b49ed2d17594ff096c470890bf0d454": {
          "model_module": "@jupyter-widgets/base",
          "model_name": "LayoutModel",
          "state": {
            "_view_name": "LayoutView",
            "grid_template_rows": null,
            "right": null,
            "justify_content": null,
            "_view_module": "@jupyter-widgets/base",
            "overflow": null,
            "_model_module_version": "1.2.0",
            "_view_count": null,
            "flex_flow": null,
            "width": null,
            "min_width": null,
            "border": null,
            "align_items": null,
            "bottom": null,
            "_model_module": "@jupyter-widgets/base",
            "top": null,
            "grid_column": null,
            "overflow_y": null,
            "overflow_x": null,
            "grid_auto_flow": null,
            "grid_area": null,
            "grid_template_columns": null,
            "flex": null,
            "_model_name": "LayoutModel",
            "justify_items": null,
            "grid_row": null,
            "max_height": null,
            "align_content": null,
            "visibility": null,
            "align_self": null,
            "height": null,
            "min_height": null,
            "padding": null,
            "grid_auto_rows": null,
            "grid_gap": null,
            "max_width": null,
            "order": null,
            "_view_module_version": "1.2.0",
            "grid_template_areas": null,
            "object_position": null,
            "object_fit": null,
            "grid_auto_columns": null,
            "margin": null,
            "display": null,
            "left": null
          }
        },
        "621c49c18b484451b573a66ff6736c7f": {
          "model_module": "@jupyter-widgets/controls",
          "model_name": "FloatProgressModel",
          "state": {
            "_view_name": "ProgressView",
            "style": "IPY_MODEL_52bebbaa3f42473891cea2c09a7642a2",
            "_dom_classes": [],
            "description": "",
            "_model_name": "FloatProgressModel",
            "bar_style": "success",
            "max": 9912422,
            "_view_module": "@jupyter-widgets/controls",
            "_model_module_version": "1.5.0",
            "value": 9912422,
            "_view_count": null,
            "_view_module_version": "1.5.0",
            "orientation": "horizontal",
            "min": 0,
            "description_tooltip": null,
            "_model_module": "@jupyter-widgets/controls",
            "layout": "IPY_MODEL_305c330b3bdb433ab1ec29cbc843d01a"
          }
        },
        "afb93ae173534591859509408595ff2c": {
          "model_module": "@jupyter-widgets/controls",
          "model_name": "HTMLModel",
          "state": {
            "_view_name": "HTMLView",
            "style": "IPY_MODEL_c948c845ee3246f09c0b7b31a25c679e",
            "_dom_classes": [],
            "description": "",
            "_model_name": "HTMLModel",
            "placeholder": "​",
            "_view_module": "@jupyter-widgets/controls",
            "_model_module_version": "1.5.0",
            "value": " 9913344/? [00:18&lt;00:00, 537255.46it/s]",
            "_view_count": null,
            "_view_module_version": "1.5.0",
            "description_tooltip": null,
            "_model_module": "@jupyter-widgets/controls",
            "layout": "IPY_MODEL_fe9cfde9b4614cf5a8cf437093d4c6a8"
          }
        },
        "52bebbaa3f42473891cea2c09a7642a2": {
          "model_module": "@jupyter-widgets/controls",
          "model_name": "ProgressStyleModel",
          "state": {
            "_view_name": "StyleView",
            "_model_name": "ProgressStyleModel",
            "description_width": "initial",
            "_view_module": "@jupyter-widgets/base",
            "_model_module_version": "1.5.0",
            "_view_count": null,
            "_view_module_version": "1.2.0",
            "bar_color": null,
            "_model_module": "@jupyter-widgets/controls"
          }
        },
        "305c330b3bdb433ab1ec29cbc843d01a": {
          "model_module": "@jupyter-widgets/base",
          "model_name": "LayoutModel",
          "state": {
            "_view_name": "LayoutView",
            "grid_template_rows": null,
            "right": null,
            "justify_content": null,
            "_view_module": "@jupyter-widgets/base",
            "overflow": null,
            "_model_module_version": "1.2.0",
            "_view_count": null,
            "flex_flow": null,
            "width": null,
            "min_width": null,
            "border": null,
            "align_items": null,
            "bottom": null,
            "_model_module": "@jupyter-widgets/base",
            "top": null,
            "grid_column": null,
            "overflow_y": null,
            "overflow_x": null,
            "grid_auto_flow": null,
            "grid_area": null,
            "grid_template_columns": null,
            "flex": null,
            "_model_name": "LayoutModel",
            "justify_items": null,
            "grid_row": null,
            "max_height": null,
            "align_content": null,
            "visibility": null,
            "align_self": null,
            "height": null,
            "min_height": null,
            "padding": null,
            "grid_auto_rows": null,
            "grid_gap": null,
            "max_width": null,
            "order": null,
            "_view_module_version": "1.2.0",
            "grid_template_areas": null,
            "object_position": null,
            "object_fit": null,
            "grid_auto_columns": null,
            "margin": null,
            "display": null,
            "left": null
          }
        },
        "c948c845ee3246f09c0b7b31a25c679e": {
          "model_module": "@jupyter-widgets/controls",
          "model_name": "DescriptionStyleModel",
          "state": {
            "_view_name": "StyleView",
            "_model_name": "DescriptionStyleModel",
            "description_width": "",
            "_view_module": "@jupyter-widgets/base",
            "_model_module_version": "1.5.0",
            "_view_count": null,
            "_view_module_version": "1.2.0",
            "_model_module": "@jupyter-widgets/controls"
          }
        },
        "fe9cfde9b4614cf5a8cf437093d4c6a8": {
          "model_module": "@jupyter-widgets/base",
          "model_name": "LayoutModel",
          "state": {
            "_view_name": "LayoutView",
            "grid_template_rows": null,
            "right": null,
            "justify_content": null,
            "_view_module": "@jupyter-widgets/base",
            "overflow": null,
            "_model_module_version": "1.2.0",
            "_view_count": null,
            "flex_flow": null,
            "width": null,
            "min_width": null,
            "border": null,
            "align_items": null,
            "bottom": null,
            "_model_module": "@jupyter-widgets/base",
            "top": null,
            "grid_column": null,
            "overflow_y": null,
            "overflow_x": null,
            "grid_auto_flow": null,
            "grid_area": null,
            "grid_template_columns": null,
            "flex": null,
            "_model_name": "LayoutModel",
            "justify_items": null,
            "grid_row": null,
            "max_height": null,
            "align_content": null,
            "visibility": null,
            "align_self": null,
            "height": null,
            "min_height": null,
            "padding": null,
            "grid_auto_rows": null,
            "grid_gap": null,
            "max_width": null,
            "order": null,
            "_view_module_version": "1.2.0",
            "grid_template_areas": null,
            "object_position": null,
            "object_fit": null,
            "grid_auto_columns": null,
            "margin": null,
            "display": null,
            "left": null
          }
        },
        "fbd813d2116647418f7879bc937f954b": {
          "model_module": "@jupyter-widgets/controls",
          "model_name": "HBoxModel",
          "state": {
            "_view_name": "HBoxView",
            "_dom_classes": [],
            "_model_name": "HBoxModel",
            "_view_module": "@jupyter-widgets/controls",
            "_model_module_version": "1.5.0",
            "_view_count": null,
            "_view_module_version": "1.5.0",
            "box_style": "",
            "layout": "IPY_MODEL_f92ec738c1e54f9db666d891c28f1e1a",
            "_model_module": "@jupyter-widgets/controls",
            "children": [
              "IPY_MODEL_44377c43e8654a0fb3c30b76b44de37a",
              "IPY_MODEL_2125df4a091940ffa825f4f857a6a8d6"
            ]
          }
        },
        "f92ec738c1e54f9db666d891c28f1e1a": {
          "model_module": "@jupyter-widgets/base",
          "model_name": "LayoutModel",
          "state": {
            "_view_name": "LayoutView",
            "grid_template_rows": null,
            "right": null,
            "justify_content": null,
            "_view_module": "@jupyter-widgets/base",
            "overflow": null,
            "_model_module_version": "1.2.0",
            "_view_count": null,
            "flex_flow": null,
            "width": null,
            "min_width": null,
            "border": null,
            "align_items": null,
            "bottom": null,
            "_model_module": "@jupyter-widgets/base",
            "top": null,
            "grid_column": null,
            "overflow_y": null,
            "overflow_x": null,
            "grid_auto_flow": null,
            "grid_area": null,
            "grid_template_columns": null,
            "flex": null,
            "_model_name": "LayoutModel",
            "justify_items": null,
            "grid_row": null,
            "max_height": null,
            "align_content": null,
            "visibility": null,
            "align_self": null,
            "height": null,
            "min_height": null,
            "padding": null,
            "grid_auto_rows": null,
            "grid_gap": null,
            "max_width": null,
            "order": null,
            "_view_module_version": "1.2.0",
            "grid_template_areas": null,
            "object_position": null,
            "object_fit": null,
            "grid_auto_columns": null,
            "margin": null,
            "display": null,
            "left": null
          }
        },
        "44377c43e8654a0fb3c30b76b44de37a": {
          "model_module": "@jupyter-widgets/controls",
          "model_name": "FloatProgressModel",
          "state": {
            "_view_name": "ProgressView",
            "style": "IPY_MODEL_7dc8a79fae354b3ca8df747c6d502bcc",
            "_dom_classes": [],
            "description": "",
            "_model_name": "FloatProgressModel",
            "bar_style": "success",
            "max": 28881,
            "_view_module": "@jupyter-widgets/controls",
            "_model_module_version": "1.5.0",
            "value": 28881,
            "_view_count": null,
            "_view_module_version": "1.5.0",
            "orientation": "horizontal",
            "min": 0,
            "description_tooltip": null,
            "_model_module": "@jupyter-widgets/controls",
            "layout": "IPY_MODEL_b722148d201948caaf0f67b65b8001fc"
          }
        },
        "2125df4a091940ffa825f4f857a6a8d6": {
          "model_module": "@jupyter-widgets/controls",
          "model_name": "HTMLModel",
          "state": {
            "_view_name": "HTMLView",
            "style": "IPY_MODEL_894de564f3404dcfb9442d4bacee10ab",
            "_dom_classes": [],
            "description": "",
            "_model_name": "HTMLModel",
            "placeholder": "​",
            "_view_module": "@jupyter-widgets/controls",
            "_model_module_version": "1.5.0",
            "value": " 29696/? [00:01&lt;00:00, 28308.52it/s]",
            "_view_count": null,
            "_view_module_version": "1.5.0",
            "description_tooltip": null,
            "_model_module": "@jupyter-widgets/controls",
            "layout": "IPY_MODEL_440ae4d5ecdf443b919b661e5b1ce78a"
          }
        },
        "7dc8a79fae354b3ca8df747c6d502bcc": {
          "model_module": "@jupyter-widgets/controls",
          "model_name": "ProgressStyleModel",
          "state": {
            "_view_name": "StyleView",
            "_model_name": "ProgressStyleModel",
            "description_width": "initial",
            "_view_module": "@jupyter-widgets/base",
            "_model_module_version": "1.5.0",
            "_view_count": null,
            "_view_module_version": "1.2.0",
            "bar_color": null,
            "_model_module": "@jupyter-widgets/controls"
          }
        },
        "b722148d201948caaf0f67b65b8001fc": {
          "model_module": "@jupyter-widgets/base",
          "model_name": "LayoutModel",
          "state": {
            "_view_name": "LayoutView",
            "grid_template_rows": null,
            "right": null,
            "justify_content": null,
            "_view_module": "@jupyter-widgets/base",
            "overflow": null,
            "_model_module_version": "1.2.0",
            "_view_count": null,
            "flex_flow": null,
            "width": null,
            "min_width": null,
            "border": null,
            "align_items": null,
            "bottom": null,
            "_model_module": "@jupyter-widgets/base",
            "top": null,
            "grid_column": null,
            "overflow_y": null,
            "overflow_x": null,
            "grid_auto_flow": null,
            "grid_area": null,
            "grid_template_columns": null,
            "flex": null,
            "_model_name": "LayoutModel",
            "justify_items": null,
            "grid_row": null,
            "max_height": null,
            "align_content": null,
            "visibility": null,
            "align_self": null,
            "height": null,
            "min_height": null,
            "padding": null,
            "grid_auto_rows": null,
            "grid_gap": null,
            "max_width": null,
            "order": null,
            "_view_module_version": "1.2.0",
            "grid_template_areas": null,
            "object_position": null,
            "object_fit": null,
            "grid_auto_columns": null,
            "margin": null,
            "display": null,
            "left": null
          }
        },
        "894de564f3404dcfb9442d4bacee10ab": {
          "model_module": "@jupyter-widgets/controls",
          "model_name": "DescriptionStyleModel",
          "state": {
            "_view_name": "StyleView",
            "_model_name": "DescriptionStyleModel",
            "description_width": "",
            "_view_module": "@jupyter-widgets/base",
            "_model_module_version": "1.5.0",
            "_view_count": null,
            "_view_module_version": "1.2.0",
            "_model_module": "@jupyter-widgets/controls"
          }
        },
        "440ae4d5ecdf443b919b661e5b1ce78a": {
          "model_module": "@jupyter-widgets/base",
          "model_name": "LayoutModel",
          "state": {
            "_view_name": "LayoutView",
            "grid_template_rows": null,
            "right": null,
            "justify_content": null,
            "_view_module": "@jupyter-widgets/base",
            "overflow": null,
            "_model_module_version": "1.2.0",
            "_view_count": null,
            "flex_flow": null,
            "width": null,
            "min_width": null,
            "border": null,
            "align_items": null,
            "bottom": null,
            "_model_module": "@jupyter-widgets/base",
            "top": null,
            "grid_column": null,
            "overflow_y": null,
            "overflow_x": null,
            "grid_auto_flow": null,
            "grid_area": null,
            "grid_template_columns": null,
            "flex": null,
            "_model_name": "LayoutModel",
            "justify_items": null,
            "grid_row": null,
            "max_height": null,
            "align_content": null,
            "visibility": null,
            "align_self": null,
            "height": null,
            "min_height": null,
            "padding": null,
            "grid_auto_rows": null,
            "grid_gap": null,
            "max_width": null,
            "order": null,
            "_view_module_version": "1.2.0",
            "grid_template_areas": null,
            "object_position": null,
            "object_fit": null,
            "grid_auto_columns": null,
            "margin": null,
            "display": null,
            "left": null
          }
        },
        "a841b02797fe4899acdfa3170888e594": {
          "model_module": "@jupyter-widgets/controls",
          "model_name": "HBoxModel",
          "state": {
            "_view_name": "HBoxView",
            "_dom_classes": [],
            "_model_name": "HBoxModel",
            "_view_module": "@jupyter-widgets/controls",
            "_model_module_version": "1.5.0",
            "_view_count": null,
            "_view_module_version": "1.5.0",
            "box_style": "",
            "layout": "IPY_MODEL_d7de23f20dca4600b49db133c2411d39",
            "_model_module": "@jupyter-widgets/controls",
            "children": [
              "IPY_MODEL_07280ca400a040ada59c668def258bfa",
              "IPY_MODEL_34454dbf419b46fa812036a730ac5d7a"
            ]
          }
        },
        "d7de23f20dca4600b49db133c2411d39": {
          "model_module": "@jupyter-widgets/base",
          "model_name": "LayoutModel",
          "state": {
            "_view_name": "LayoutView",
            "grid_template_rows": null,
            "right": null,
            "justify_content": null,
            "_view_module": "@jupyter-widgets/base",
            "overflow": null,
            "_model_module_version": "1.2.0",
            "_view_count": null,
            "flex_flow": null,
            "width": null,
            "min_width": null,
            "border": null,
            "align_items": null,
            "bottom": null,
            "_model_module": "@jupyter-widgets/base",
            "top": null,
            "grid_column": null,
            "overflow_y": null,
            "overflow_x": null,
            "grid_auto_flow": null,
            "grid_area": null,
            "grid_template_columns": null,
            "flex": null,
            "_model_name": "LayoutModel",
            "justify_items": null,
            "grid_row": null,
            "max_height": null,
            "align_content": null,
            "visibility": null,
            "align_self": null,
            "height": null,
            "min_height": null,
            "padding": null,
            "grid_auto_rows": null,
            "grid_gap": null,
            "max_width": null,
            "order": null,
            "_view_module_version": "1.2.0",
            "grid_template_areas": null,
            "object_position": null,
            "object_fit": null,
            "grid_auto_columns": null,
            "margin": null,
            "display": null,
            "left": null
          }
        },
        "07280ca400a040ada59c668def258bfa": {
          "model_module": "@jupyter-widgets/controls",
          "model_name": "FloatProgressModel",
          "state": {
            "_view_name": "ProgressView",
            "style": "IPY_MODEL_0fc2a951688b44d994783b12c9b4f13c",
            "_dom_classes": [],
            "description": "",
            "_model_name": "FloatProgressModel",
            "bar_style": "success",
            "max": 1648877,
            "_view_module": "@jupyter-widgets/controls",
            "_model_module_version": "1.5.0",
            "value": 1648877,
            "_view_count": null,
            "_view_module_version": "1.5.0",
            "orientation": "horizontal",
            "min": 0,
            "description_tooltip": null,
            "_model_module": "@jupyter-widgets/controls",
            "layout": "IPY_MODEL_0426385a2c1c4b02b00e8657eeb04f70"
          }
        },
        "34454dbf419b46fa812036a730ac5d7a": {
          "model_module": "@jupyter-widgets/controls",
          "model_name": "HTMLModel",
          "state": {
            "_view_name": "HTMLView",
            "style": "IPY_MODEL_14d755d6436a4e8583e6a97ef8319cee",
            "_dom_classes": [],
            "description": "",
            "_model_name": "HTMLModel",
            "placeholder": "​",
            "_view_module": "@jupyter-widgets/controls",
            "_model_module_version": "1.5.0",
            "value": " 1649664/? [00:15&lt;00:00, 108236.62it/s]",
            "_view_count": null,
            "_view_module_version": "1.5.0",
            "description_tooltip": null,
            "_model_module": "@jupyter-widgets/controls",
            "layout": "IPY_MODEL_32878df370a046ea8de722892f73a56d"
          }
        },
        "0fc2a951688b44d994783b12c9b4f13c": {
          "model_module": "@jupyter-widgets/controls",
          "model_name": "ProgressStyleModel",
          "state": {
            "_view_name": "StyleView",
            "_model_name": "ProgressStyleModel",
            "description_width": "initial",
            "_view_module": "@jupyter-widgets/base",
            "_model_module_version": "1.5.0",
            "_view_count": null,
            "_view_module_version": "1.2.0",
            "bar_color": null,
            "_model_module": "@jupyter-widgets/controls"
          }
        },
        "0426385a2c1c4b02b00e8657eeb04f70": {
          "model_module": "@jupyter-widgets/base",
          "model_name": "LayoutModel",
          "state": {
            "_view_name": "LayoutView",
            "grid_template_rows": null,
            "right": null,
            "justify_content": null,
            "_view_module": "@jupyter-widgets/base",
            "overflow": null,
            "_model_module_version": "1.2.0",
            "_view_count": null,
            "flex_flow": null,
            "width": null,
            "min_width": null,
            "border": null,
            "align_items": null,
            "bottom": null,
            "_model_module": "@jupyter-widgets/base",
            "top": null,
            "grid_column": null,
            "overflow_y": null,
            "overflow_x": null,
            "grid_auto_flow": null,
            "grid_area": null,
            "grid_template_columns": null,
            "flex": null,
            "_model_name": "LayoutModel",
            "justify_items": null,
            "grid_row": null,
            "max_height": null,
            "align_content": null,
            "visibility": null,
            "align_self": null,
            "height": null,
            "min_height": null,
            "padding": null,
            "grid_auto_rows": null,
            "grid_gap": null,
            "max_width": null,
            "order": null,
            "_view_module_version": "1.2.0",
            "grid_template_areas": null,
            "object_position": null,
            "object_fit": null,
            "grid_auto_columns": null,
            "margin": null,
            "display": null,
            "left": null
          }
        },
        "14d755d6436a4e8583e6a97ef8319cee": {
          "model_module": "@jupyter-widgets/controls",
          "model_name": "DescriptionStyleModel",
          "state": {
            "_view_name": "StyleView",
            "_model_name": "DescriptionStyleModel",
            "description_width": "",
            "_view_module": "@jupyter-widgets/base",
            "_model_module_version": "1.5.0",
            "_view_count": null,
            "_view_module_version": "1.2.0",
            "_model_module": "@jupyter-widgets/controls"
          }
        },
        "32878df370a046ea8de722892f73a56d": {
          "model_module": "@jupyter-widgets/base",
          "model_name": "LayoutModel",
          "state": {
            "_view_name": "LayoutView",
            "grid_template_rows": null,
            "right": null,
            "justify_content": null,
            "_view_module": "@jupyter-widgets/base",
            "overflow": null,
            "_model_module_version": "1.2.0",
            "_view_count": null,
            "flex_flow": null,
            "width": null,
            "min_width": null,
            "border": null,
            "align_items": null,
            "bottom": null,
            "_model_module": "@jupyter-widgets/base",
            "top": null,
            "grid_column": null,
            "overflow_y": null,
            "overflow_x": null,
            "grid_auto_flow": null,
            "grid_area": null,
            "grid_template_columns": null,
            "flex": null,
            "_model_name": "LayoutModel",
            "justify_items": null,
            "grid_row": null,
            "max_height": null,
            "align_content": null,
            "visibility": null,
            "align_self": null,
            "height": null,
            "min_height": null,
            "padding": null,
            "grid_auto_rows": null,
            "grid_gap": null,
            "max_width": null,
            "order": null,
            "_view_module_version": "1.2.0",
            "grid_template_areas": null,
            "object_position": null,
            "object_fit": null,
            "grid_auto_columns": null,
            "margin": null,
            "display": null,
            "left": null
          }
        },
        "aaaa5946565d451aa43e94e0903e6eee": {
          "model_module": "@jupyter-widgets/controls",
          "model_name": "HBoxModel",
          "state": {
            "_view_name": "HBoxView",
            "_dom_classes": [],
            "_model_name": "HBoxModel",
            "_view_module": "@jupyter-widgets/controls",
            "_model_module_version": "1.5.0",
            "_view_count": null,
            "_view_module_version": "1.5.0",
            "box_style": "",
            "layout": "IPY_MODEL_ca664ce44e08404eb55dd391cfd058ef",
            "_model_module": "@jupyter-widgets/controls",
            "children": [
              "IPY_MODEL_1cc99fdfe2db4827af4be92738302ae1",
              "IPY_MODEL_44a21dcd82f3436693f1719254a67e57"
            ]
          }
        },
        "ca664ce44e08404eb55dd391cfd058ef": {
          "model_module": "@jupyter-widgets/base",
          "model_name": "LayoutModel",
          "state": {
            "_view_name": "LayoutView",
            "grid_template_rows": null,
            "right": null,
            "justify_content": null,
            "_view_module": "@jupyter-widgets/base",
            "overflow": null,
            "_model_module_version": "1.2.0",
            "_view_count": null,
            "flex_flow": null,
            "width": null,
            "min_width": null,
            "border": null,
            "align_items": null,
            "bottom": null,
            "_model_module": "@jupyter-widgets/base",
            "top": null,
            "grid_column": null,
            "overflow_y": null,
            "overflow_x": null,
            "grid_auto_flow": null,
            "grid_area": null,
            "grid_template_columns": null,
            "flex": null,
            "_model_name": "LayoutModel",
            "justify_items": null,
            "grid_row": null,
            "max_height": null,
            "align_content": null,
            "visibility": null,
            "align_self": null,
            "height": null,
            "min_height": null,
            "padding": null,
            "grid_auto_rows": null,
            "grid_gap": null,
            "max_width": null,
            "order": null,
            "_view_module_version": "1.2.0",
            "grid_template_areas": null,
            "object_position": null,
            "object_fit": null,
            "grid_auto_columns": null,
            "margin": null,
            "display": null,
            "left": null
          }
        },
        "1cc99fdfe2db4827af4be92738302ae1": {
          "model_module": "@jupyter-widgets/controls",
          "model_name": "FloatProgressModel",
          "state": {
            "_view_name": "ProgressView",
            "style": "IPY_MODEL_09186754b6544fd7a037de6d44e4aa54",
            "_dom_classes": [],
            "description": "",
            "_model_name": "FloatProgressModel",
            "bar_style": "success",
            "max": 4542,
            "_view_module": "@jupyter-widgets/controls",
            "_model_module_version": "1.5.0",
            "value": 4542,
            "_view_count": null,
            "_view_module_version": "1.5.0",
            "orientation": "horizontal",
            "min": 0,
            "description_tooltip": null,
            "_model_module": "@jupyter-widgets/controls",
            "layout": "IPY_MODEL_76e1ba0b834a47c3b54e2afd4b91cb0d"
          }
        },
        "44a21dcd82f3436693f1719254a67e57": {
          "model_module": "@jupyter-widgets/controls",
          "model_name": "HTMLModel",
          "state": {
            "_view_name": "HTMLView",
            "style": "IPY_MODEL_370614242bd745ecaa1e0f9efacdff8a",
            "_dom_classes": [],
            "description": "",
            "_model_name": "HTMLModel",
            "placeholder": "​",
            "_view_module": "@jupyter-widgets/controls",
            "_model_module_version": "1.5.0",
            "value": " 5120/? [00:13&lt;00:00, 380.29it/s]",
            "_view_count": null,
            "_view_module_version": "1.5.0",
            "description_tooltip": null,
            "_model_module": "@jupyter-widgets/controls",
            "layout": "IPY_MODEL_bd9b08d725564df78d34f07478939265"
          }
        },
        "09186754b6544fd7a037de6d44e4aa54": {
          "model_module": "@jupyter-widgets/controls",
          "model_name": "ProgressStyleModel",
          "state": {
            "_view_name": "StyleView",
            "_model_name": "ProgressStyleModel",
            "description_width": "initial",
            "_view_module": "@jupyter-widgets/base",
            "_model_module_version": "1.5.0",
            "_view_count": null,
            "_view_module_version": "1.2.0",
            "bar_color": null,
            "_model_module": "@jupyter-widgets/controls"
          }
        },
        "76e1ba0b834a47c3b54e2afd4b91cb0d": {
          "model_module": "@jupyter-widgets/base",
          "model_name": "LayoutModel",
          "state": {
            "_view_name": "LayoutView",
            "grid_template_rows": null,
            "right": null,
            "justify_content": null,
            "_view_module": "@jupyter-widgets/base",
            "overflow": null,
            "_model_module_version": "1.2.0",
            "_view_count": null,
            "flex_flow": null,
            "width": null,
            "min_width": null,
            "border": null,
            "align_items": null,
            "bottom": null,
            "_model_module": "@jupyter-widgets/base",
            "top": null,
            "grid_column": null,
            "overflow_y": null,
            "overflow_x": null,
            "grid_auto_flow": null,
            "grid_area": null,
            "grid_template_columns": null,
            "flex": null,
            "_model_name": "LayoutModel",
            "justify_items": null,
            "grid_row": null,
            "max_height": null,
            "align_content": null,
            "visibility": null,
            "align_self": null,
            "height": null,
            "min_height": null,
            "padding": null,
            "grid_auto_rows": null,
            "grid_gap": null,
            "max_width": null,
            "order": null,
            "_view_module_version": "1.2.0",
            "grid_template_areas": null,
            "object_position": null,
            "object_fit": null,
            "grid_auto_columns": null,
            "margin": null,
            "display": null,
            "left": null
          }
        },
        "370614242bd745ecaa1e0f9efacdff8a": {
          "model_module": "@jupyter-widgets/controls",
          "model_name": "DescriptionStyleModel",
          "state": {
            "_view_name": "StyleView",
            "_model_name": "DescriptionStyleModel",
            "description_width": "",
            "_view_module": "@jupyter-widgets/base",
            "_model_module_version": "1.5.0",
            "_view_count": null,
            "_view_module_version": "1.2.0",
            "_model_module": "@jupyter-widgets/controls"
          }
        },
        "bd9b08d725564df78d34f07478939265": {
          "model_module": "@jupyter-widgets/base",
          "model_name": "LayoutModel",
          "state": {
            "_view_name": "LayoutView",
            "grid_template_rows": null,
            "right": null,
            "justify_content": null,
            "_view_module": "@jupyter-widgets/base",
            "overflow": null,
            "_model_module_version": "1.2.0",
            "_view_count": null,
            "flex_flow": null,
            "width": null,
            "min_width": null,
            "border": null,
            "align_items": null,
            "bottom": null,
            "_model_module": "@jupyter-widgets/base",
            "top": null,
            "grid_column": null,
            "overflow_y": null,
            "overflow_x": null,
            "grid_auto_flow": null,
            "grid_area": null,
            "grid_template_columns": null,
            "flex": null,
            "_model_name": "LayoutModel",
            "justify_items": null,
            "grid_row": null,
            "max_height": null,
            "align_content": null,
            "visibility": null,
            "align_self": null,
            "height": null,
            "min_height": null,
            "padding": null,
            "grid_auto_rows": null,
            "grid_gap": null,
            "max_width": null,
            "order": null,
            "_view_module_version": "1.2.0",
            "grid_template_areas": null,
            "object_position": null,
            "object_fit": null,
            "grid_auto_columns": null,
            "margin": null,
            "display": null,
            "left": null
          }
        }
      }
    }
  },
  "cells": [
    {
      "cell_type": "markdown",
      "metadata": {
        "id": "view-in-github",
        "colab_type": "text"
      },
      "source": [
        "<a href=\"https://colab.research.google.com/github/bhuvanabasapur/CMPE-258/blob/master/Assignments/Assignment%206/Assignment6partb2.ipynb\" target=\"_parent\"><img src=\"https://colab.research.google.com/assets/colab-badge.svg\" alt=\"Open In Colab\"/></a>"
      ]
    },
    {
      "cell_type": "markdown",
      "metadata": {
        "id": "_e-C5ZapSriB"
      },
      "source": [
        "# MNIST Classification using Pytorch\n",
        "Dataset: Fashion images"
      ]
    },
    {
      "cell_type": "code",
      "metadata": {
        "colab": {
          "base_uri": "https://localhost:8080/"
        },
        "id": "gsn_79vSR5s-",
        "outputId": "9223f07b-7b25-43b8-8a08-7d9791ad3ad1"
      },
      "source": [
        "import torch\n",
        "import torch.nn as nn\n",
        "import torchvision.transforms as transforms\n",
        "import torchvision.datasets as datasets\n",
        "from torch.autograd import Variable\n",
        "torch.cuda.is_available()\n",
        "\n"
      ],
      "execution_count": 1,
      "outputs": [
        {
          "output_type": "execute_result",
          "data": {
            "text/plain": [
              "True"
            ]
          },
          "metadata": {
            "tags": []
          },
          "execution_count": 1
        }
      ]
    },
    {
      "cell_type": "markdown",
      "metadata": {
        "id": "3uT_mJYHTIGK"
      },
      "source": [
        "# Data Ingestion"
      ]
    },
    {
      "cell_type": "code",
      "metadata": {
        "colab": {
          "base_uri": "https://localhost:8080/",
          "height": 845,
          "referenced_widgets": [
            "874ff03c3ef64f59b43d68e2d48b1a2e",
            "5b49ed2d17594ff096c470890bf0d454",
            "621c49c18b484451b573a66ff6736c7f",
            "afb93ae173534591859509408595ff2c",
            "52bebbaa3f42473891cea2c09a7642a2",
            "305c330b3bdb433ab1ec29cbc843d01a",
            "c948c845ee3246f09c0b7b31a25c679e",
            "fe9cfde9b4614cf5a8cf437093d4c6a8",
            "fbd813d2116647418f7879bc937f954b",
            "f92ec738c1e54f9db666d891c28f1e1a",
            "44377c43e8654a0fb3c30b76b44de37a",
            "2125df4a091940ffa825f4f857a6a8d6",
            "7dc8a79fae354b3ca8df747c6d502bcc",
            "b722148d201948caaf0f67b65b8001fc",
            "894de564f3404dcfb9442d4bacee10ab",
            "440ae4d5ecdf443b919b661e5b1ce78a",
            "a841b02797fe4899acdfa3170888e594",
            "d7de23f20dca4600b49db133c2411d39",
            "07280ca400a040ada59c668def258bfa",
            "34454dbf419b46fa812036a730ac5d7a",
            "0fc2a951688b44d994783b12c9b4f13c",
            "0426385a2c1c4b02b00e8657eeb04f70",
            "14d755d6436a4e8583e6a97ef8319cee",
            "32878df370a046ea8de722892f73a56d",
            "aaaa5946565d451aa43e94e0903e6eee",
            "ca664ce44e08404eb55dd391cfd058ef",
            "1cc99fdfe2db4827af4be92738302ae1",
            "44a21dcd82f3436693f1719254a67e57",
            "09186754b6544fd7a037de6d44e4aa54",
            "76e1ba0b834a47c3b54e2afd4b91cb0d",
            "370614242bd745ecaa1e0f9efacdff8a",
            "bd9b08d725564df78d34f07478939265"
          ]
        },
        "id": "OAwzR4X6TLBJ",
        "outputId": "5d3778db-8980-43be-89cb-01adbe70cc47"
      },
      "source": [
        "mean_gray= 0.1307\n",
        "stddev_gray= 0.3081\n",
        "#normalize the image with std and mean\n",
        "#e.g: input[channel]=(input[channel]-mean[channel])/std(channel)\n",
        "transforms = transforms.Compose([transforms.ToTensor(), transforms.Normalize((mean_gray,),(stddev_gray,))])\n",
        "\n",
        "train_dataset=datasets.MNIST(root='./data', train=True, transform=transforms, download=True)\n",
        "test_dataset=datasets.MNIST(root='./data', train=False, transform=transforms)\n"
      ],
      "execution_count": 2,
      "outputs": [
        {
          "output_type": "stream",
          "text": [
            "Downloading http://yann.lecun.com/exdb/mnist/train-images-idx3-ubyte.gz\n",
            "Failed to download (trying next):\n",
            "HTTP Error 503: Service Unavailable\n",
            "\n",
            "Downloading https://ossci-datasets.s3.amazonaws.com/mnist/train-images-idx3-ubyte.gz\n",
            "Downloading https://ossci-datasets.s3.amazonaws.com/mnist/train-images-idx3-ubyte.gz to ./data/MNIST/raw/train-images-idx3-ubyte.gz\n"
          ],
          "name": "stdout"
        },
        {
          "output_type": "display_data",
          "data": {
            "application/vnd.jupyter.widget-view+json": {
              "model_id": "874ff03c3ef64f59b43d68e2d48b1a2e",
              "version_minor": 0,
              "version_major": 2
            },
            "text/plain": [
              "HBox(children=(FloatProgress(value=0.0, max=9912422.0), HTML(value='')))"
            ]
          },
          "metadata": {
            "tags": []
          }
        },
        {
          "output_type": "stream",
          "text": [
            "\n",
            "Extracting ./data/MNIST/raw/train-images-idx3-ubyte.gz to ./data/MNIST/raw\n",
            "\n",
            "Downloading http://yann.lecun.com/exdb/mnist/train-labels-idx1-ubyte.gz\n",
            "Failed to download (trying next):\n",
            "HTTP Error 503: Service Unavailable\n",
            "\n",
            "Downloading https://ossci-datasets.s3.amazonaws.com/mnist/train-labels-idx1-ubyte.gz\n",
            "Downloading https://ossci-datasets.s3.amazonaws.com/mnist/train-labels-idx1-ubyte.gz to ./data/MNIST/raw/train-labels-idx1-ubyte.gz\n"
          ],
          "name": "stdout"
        },
        {
          "output_type": "display_data",
          "data": {
            "application/vnd.jupyter.widget-view+json": {
              "model_id": "fbd813d2116647418f7879bc937f954b",
              "version_minor": 0,
              "version_major": 2
            },
            "text/plain": [
              "HBox(children=(FloatProgress(value=0.0, max=28881.0), HTML(value='')))"
            ]
          },
          "metadata": {
            "tags": []
          }
        },
        {
          "output_type": "stream",
          "text": [
            "\n",
            "Extracting ./data/MNIST/raw/train-labels-idx1-ubyte.gz to ./data/MNIST/raw\n",
            "\n",
            "Downloading http://yann.lecun.com/exdb/mnist/t10k-images-idx3-ubyte.gz\n",
            "Failed to download (trying next):\n",
            "HTTP Error 503: Service Unavailable\n",
            "\n",
            "Downloading https://ossci-datasets.s3.amazonaws.com/mnist/t10k-images-idx3-ubyte.gz\n",
            "Downloading https://ossci-datasets.s3.amazonaws.com/mnist/t10k-images-idx3-ubyte.gz to ./data/MNIST/raw/t10k-images-idx3-ubyte.gz\n"
          ],
          "name": "stdout"
        },
        {
          "output_type": "display_data",
          "data": {
            "application/vnd.jupyter.widget-view+json": {
              "model_id": "a841b02797fe4899acdfa3170888e594",
              "version_minor": 0,
              "version_major": 2
            },
            "text/plain": [
              "HBox(children=(FloatProgress(value=0.0, max=1648877.0), HTML(value='')))"
            ]
          },
          "metadata": {
            "tags": []
          }
        },
        {
          "output_type": "stream",
          "text": [
            "\n",
            "Extracting ./data/MNIST/raw/t10k-images-idx3-ubyte.gz to ./data/MNIST/raw\n",
            "\n",
            "Downloading http://yann.lecun.com/exdb/mnist/t10k-labels-idx1-ubyte.gz\n",
            "Failed to download (trying next):\n",
            "HTTP Error 503: Service Unavailable\n",
            "\n",
            "Downloading https://ossci-datasets.s3.amazonaws.com/mnist/t10k-labels-idx1-ubyte.gz\n",
            "Downloading https://ossci-datasets.s3.amazonaws.com/mnist/t10k-labels-idx1-ubyte.gz to ./data/MNIST/raw/t10k-labels-idx1-ubyte.gz\n"
          ],
          "name": "stdout"
        },
        {
          "output_type": "display_data",
          "data": {
            "application/vnd.jupyter.widget-view+json": {
              "model_id": "aaaa5946565d451aa43e94e0903e6eee",
              "version_minor": 0,
              "version_major": 2
            },
            "text/plain": [
              "HBox(children=(FloatProgress(value=0.0, max=4542.0), HTML(value='')))"
            ]
          },
          "metadata": {
            "tags": []
          }
        },
        {
          "output_type": "stream",
          "text": [
            "\n",
            "Extracting ./data/MNIST/raw/t10k-labels-idx1-ubyte.gz to ./data/MNIST/raw\n",
            "\n",
            "Processing...\n",
            "Done!\n"
          ],
          "name": "stdout"
        },
        {
          "output_type": "stream",
          "text": [
            "/usr/local/lib/python3.7/dist-packages/torchvision/datasets/mnist.py:502: UserWarning: The given NumPy array is not writeable, and PyTorch does not support non-writeable tensors. This means you can write to the underlying (supposedly non-writeable) NumPy array using the tensor. You may want to copy the array to protect its data or make it writeable before converting it to a tensor. This type of warning will be suppressed for the rest of this program. (Triggered internally at  /pytorch/torch/csrc/utils/tensor_numpy.cpp:143.)\n",
            "  return torch.from_numpy(parsed.astype(m[2], copy=False)).view(*s)\n"
          ],
          "name": "stderr"
        }
      ]
    },
    {
      "cell_type": "markdown",
      "metadata": {
        "id": "2L0dgwMYTTiE"
      },
      "source": [
        "# EDA"
      ]
    },
    {
      "cell_type": "code",
      "metadata": {
        "colab": {
          "base_uri": "https://localhost:8080/",
          "height": 299
        },
        "id": "NDZuy7sDTLja",
        "outputId": "f597df7e-e2f3-4b79-dda5-9ca1115efc49"
      },
      "source": [
        "import matplotlib.pyplot as plt\n",
        "label=train_dataset[21][1]\n",
        "print('label:', label)\n",
        "random_image = train_dataset[21][0].numpy() * stddev_gray + mean_gray\n",
        "plt.imshow(random_image.reshape(28,28), cmap='Blues')"
      ],
      "execution_count": 8,
      "outputs": [
        {
          "output_type": "stream",
          "text": [
            "label: 0\n"
          ],
          "name": "stdout"
        },
        {
          "output_type": "execute_result",
          "data": {
            "text/plain": [
              "<matplotlib.image.AxesImage at 0x7f028a4a5e50>"
            ]
          },
          "metadata": {
            "tags": []
          },
          "execution_count": 8
        },
        {
          "output_type": "display_data",
          "data": {
            "image/png": "[encoded data removed]",
            "text/plain": [
              "<Figure size 432x288 with 1 Axes>"
            ]
          },
          "metadata": {
            "tags": [],
            "needs_background": "light"
          }
        }
      ]
    },
    {
      "cell_type": "markdown",
      "metadata": {
        "id": "aZQnbLNaTxbk"
      },
      "source": [
        "#Model"
      ]
    },
    {
      "cell_type": "code",
      "metadata": {
        "colab": {
          "base_uri": "https://localhost:8080/"
        },
        "id": "Z-Qo76JKTyt3",
        "outputId": "a6770aa3-9584-4725-8c94-eccaffa1b21b"
      },
      "source": [
        "#setup dataloaders for train/test\n",
        "\n",
        "batch_size=100\n",
        "epochs=10\n",
        "train_load=torch.utils.data.DataLoader(dataset=train_dataset, batch_size=batch_size, shuffle=True)\n",
        "test_load=torch.utils.data.DataLoader(dataset=test_dataset, batch_size=batch_size, shuffle=False)\n",
        "print(\"Number of images in training set: {}\".format(len(train_dataset)))\n",
        "print(\"Number of images in test set: {}\".format(len(test_dataset)))\n",
        "print(\"Number of batches in the train loader: {}\".format(len(train_load)))\n",
        "print(\"Number of batches in the test loader: {}\".format(len(test_load)))"
      ],
      "execution_count": 9,
      "outputs": [
        {
          "output_type": "stream",
          "text": [
            "Number of images in training set: 60000\n",
            "Number of images in test set: 10000\n",
            "Number of batches in the train loader: 600\n",
            "Number of batches in the test loader: 100\n"
          ],
          "name": "stdout"
        }
      ]
    },
    {
      "cell_type": "code",
      "metadata": {
        "id": "68GNWkscUBSG"
      },
      "source": [
        "class CNN(nn.Module):\n",
        "  def __init__(self):\n",
        "    super(CNN, self).__init__()\n",
        "\n",
        "    # layer 1 - CNN, BatchNorm, Relu, MaxPool\n",
        "    self.layer1 = nn.Sequential(\n",
        "            nn.Conv2d(in_channels=1, out_channels=32, kernel_size=3, padding=1),\n",
        "            nn.BatchNorm2d(32),\n",
        "            nn.ReLU(),\n",
        "            nn.MaxPool2d(kernel_size=2, stride=2)\n",
        "    )\n",
        "      \n",
        "    # layer 2 - CNN, BatchNorm, Relu, MaxPool\n",
        "    self.layer2 = nn.Sequential(\n",
        "            nn.Conv2d(in_channels=32, out_channels=64, kernel_size=3),\n",
        "            nn.BatchNorm2d(64),\n",
        "            nn.ReLU(),\n",
        "            nn.MaxPool2d(2)\n",
        "    )\n",
        "        \n",
        "    # layer 3 - Linear, Dropout, Linear, Dropout\n",
        "    self.fc1 = nn.Linear(in_features=64*6*6, out_features=600)\n",
        "    self.drop = nn.Dropout2d(0.3)\n",
        "    self.fc2 = nn.Linear(in_features=600, out_features=120)\n",
        "    self.drop = nn.Dropout2d(0.3)\n",
        "\n",
        "  def forward(self, x):\n",
        "    out = self.layer1(x)\n",
        "    out = self.layer2(out)\n",
        "    out = out.view(out.size(0), -1)\n",
        "    out = self.fc1(out)\n",
        "    out = self.drop(out)\n",
        "    out = self.fc2(out)\n",
        "    out = self.drop(out)\n",
        "    return out"
      ],
      "execution_count": 10,
      "outputs": []
    },
    {
      "cell_type": "markdown",
      "metadata": {
        "id": "owaiQ6IkUP7M"
      },
      "source": [
        "Hyperparameters:\n"
      ]
    },
    {
      "cell_type": "code",
      "metadata": {
        "id": "YnLuH4C5UUzc"
      },
      "source": [
        "learning_rate = 0.001\n",
        "loss_fn=nn.CrossEntropyLoss()\n",
        "#loss_fn = nn.L1Loss()\n",
        "momemtum = 0.9\n",
        "\n",
        "model=CNN()\n",
        "CUDA=torch.cuda.is_available()\n",
        "if CUDA:\n",
        "  model=model.cuda()\n",
        "\n",
        "#optimizer = torch.optim.Adam(model.parameters(), lr=learning_rate)\n",
        "optimizer = torch.optim.SGD(model.parameters(), lr=learning_rate, momentum=momemtum)"
      ],
      "execution_count": 12,
      "outputs": []
    },
    {
      "cell_type": "markdown",
      "metadata": {
        "id": "ftNn0K1JUX4V"
      },
      "source": [
        "#Evaluate"
      ]
    },
    {
      "cell_type": "code",
      "metadata": {
        "colab": {
          "base_uri": "https://localhost:8080/"
        },
        "id": "CjJEjL5ZUdxO",
        "outputId": "a2b3dba3-e843-437c-d05d-2be30b57b9cf"
      },
      "source": [
        "iteration=0\n",
        "correct_nodata=0\n",
        "correct_data=0\n",
        "for i,(inputs,labels) in enumerate (train_load):\n",
        "  if iteration==1:\n",
        "    break\n",
        "  inputs=Variable(inputs)\n",
        "  labels=Variable(labels)\n",
        "  if torch.cuda.is_available():\n",
        "    inputs=inputs.cuda()\n",
        "    labels=labels.cuda()\n",
        "\n",
        "  print(\"For 1 iteration, this is what happens:\")\n",
        "  print(f\"Input Shape: {inputs.shape}\")\n",
        "  print(f\"Labels Shape: {labels.shape}\")\n",
        "  output = model(inputs)\n",
        "  \n",
        "  print(f\"Output Shape:{output.shape}\")\n",
        "  _,predicted_nodata=torch.max(output,1)\n",
        "  \n",
        "  print(f\"Predicted Shape: {predicted_nodata.shape}\")\n",
        "  print(f\"Predicted Tensor: {predicted_nodata}\")\n",
        "  correct_nodata +=(predicted_nodata==labels).sum()\n",
        "  print(f\"Correct Predictions: {correct_nodata}\")\n",
        "  _,predicted_data = torch.max(output.data,1)\n",
        "  correct_data +=(predicted_data==labels.data).sum()\n",
        "  \n",
        "  print(f\"Correct Predictions: {correct_data}\")\n",
        "  \n",
        "  iteration+=1"
      ],
      "execution_count": 13,
      "outputs": [
        {
          "output_type": "stream",
          "text": [
            "For 1 iteration, this is what happens:\n",
            "Input Shape: torch.Size([100, 1, 28, 28])\n",
            "Labels Shape: torch.Size([100])\n",
            "Output Shape: torch.Size([100, 120])\n",
            "Predicted Shape: torch.Size([100])\n",
            "Predicted Tensor: tensor([ 81, 101,   1,  69,  67,  65,  85,   1,  58,  11,  15,  85,   1,  13,\n",
            "          1,  14,  85,  85,  67,  85,  85,  85,  16,  65,   3,   1,  14,  67,\n",
            "         85,  85,   1,  27, 114,  85,  85,  85, 106,  22,  96,  69,  95,   1,\n",
            "        111,  85,  35,  85,  59,  85,  85,  85,  18,  85,  69,  11,  51,  96,\n",
            "         59,   1,  78,   1,  85,  85,   1,  59,  67,  85, 106,  52,  86, 106,\n",
            "         69,  85,  69,  59,  35,  18,  85,  69,  85,   1,  35,  85,  82,  65,\n",
            "        101,  52,  52,  67,  86,  86,  59,  78,  69,  59,   1,  11,   1, 111,\n",
            "         62,  97], device='cuda:0')\n",
            "Correct Predictions: tensor(0, device='cuda:0')\n",
            "Correct Predictions: tensor(0, device='cuda:0')\n"
          ],
          "name": "stdout"
        }
      ]
    },
    {
      "cell_type": "code",
      "metadata": {
        "colab": {
          "base_uri": "https://localhost:8080/"
        },
        "id": "RNCwomjcUlv1",
        "outputId": "a01d196f-841c-46b0-e92e-17c6276bd24e"
      },
      "source": [
        "num_epochs=20\n",
        "\n",
        "train_loss=[]\n",
        "test_loss=[]\n",
        "train_accuracy=[]\n",
        "test_accuracy=[]\n",
        "\n",
        "# Training\n",
        "for epoch in range(num_epochs):\n",
        "  # Reset variables at 0 epoch\n",
        "  correct=0\n",
        "  iteration=0\n",
        "  iter_loss=0.0\n",
        "  \n",
        "  model.train() # Training Mode\n",
        "  \n",
        "  for i,(inputs,labels) in enumerate(train_load):\n",
        "    \n",
        "    inputs=Variable(inputs)\n",
        "    labels=Variable(labels)\n",
        "    \n",
        "    # if CUDA is avaible, shift to GPU (CUDA)\n",
        "    CUDA=torch.cuda.is_available()\n",
        "    if CUDA:\n",
        "      inputs=inputs.cuda()\n",
        "      labels=labels.cuda()\n",
        "      \n",
        "    optimizer.zero_grad() # clear gradient\n",
        "    outputs=model(inputs)\n",
        "    loss=loss_fn(outputs,labels)\n",
        "    iter_loss += loss.item() # Accumulate loss\n",
        "    loss.backward() # backpropagation\n",
        "    optimizer.step() # update weights\n",
        "    \n",
        "    # Save the correct predictions for training data\n",
        "    _,predicted=torch.max(outputs,1)\n",
        "    correct +=(predicted==labels).sum()\n",
        "    iteration +=1\n",
        "    \n",
        "  train_loss.append(iter_loss/iteration)\n",
        "  train_accuracy.append((100*correct/len(train_dataset)))\n",
        "  \n",
        "  # Testing\n",
        "  correct=0\n",
        "  iteration=0\n",
        "  loss=0.0\n",
        "  \n",
        "  model.eval()  # Testing Mode\n",
        "  \n",
        "  for i, (inputs, labels) in enumerate(test_load):\n",
        "    \n",
        "    inputs=Variable(inputs)\n",
        "    labels=Variable(labels)\n",
        "    \n",
        "    CUDA=torch.cuda.is_available()\n",
        "    if CUDA:\n",
        "      inputs=inputs.cuda()\n",
        "      labels=labels.cuda()\n",
        "    \n",
        "    outputs=model(inputs)\n",
        "    loss=loss_fn(outputs,labels)\n",
        "    loss += loss.item()\n",
        "    \n",
        "    _,predicted=torch.max(outputs,1)\n",
        "    correct+=(predicted==labels).sum()\n",
        "    \n",
        "    iteration+=1\n",
        "    \n",
        "  test_loss.append(loss/iteration)\n",
        "  test_accuracy.append((100*correct/len(test_dataset)))\n",
        "  \n",
        "  print('Epoch {}/{}, Training Loss:{:.3f}, Training Accuracy:{:.3f}, Testing Loss {:.3f}, Testing Accuracy:{:.3f}'\n",
        "       .format(epoch+1, num_epochs, train_loss[-1], train_accuracy[-1], test_loss[-1], test_accuracy[-1]))\n"
      ],
      "execution_count": 14,
      "outputs": [
        {
          "output_type": "stream",
          "text": [
            "Epoch 1/20, Training Loss:1.540, Training Accuracy:65.742, Testing Loss 0.004, Testing Accuracy:96.970\n",
            "Epoch 2/20, Training Loss:1.241, Training Accuracy:72.362, Testing Loss 0.002, Testing Accuracy:97.870\n",
            "Epoch 3/20, Training Loss:1.206, Training Accuracy:73.737, Testing Loss 0.001, Testing Accuracy:98.330\n",
            "Epoch 4/20, Training Loss:1.181, Training Accuracy:74.983, Testing Loss 0.001, Testing Accuracy:98.450\n",
            "Epoch 5/20, Training Loss:1.174, Training Accuracy:75.465, Testing Loss 0.001, Testing Accuracy:98.500\n",
            "Epoch 6/20, Training Loss:1.176, Training Accuracy:75.597, Testing Loss 0.001, Testing Accuracy:98.560\n",
            "Epoch 7/20, Training Loss:1.159, Training Accuracy:76.258, Testing Loss 0.000, Testing Accuracy:98.640\n",
            "Epoch 8/20, Training Loss:1.154, Training Accuracy:76.598, Testing Loss 0.000, Testing Accuracy:98.640\n",
            "Epoch 9/20, Training Loss:1.148, Training Accuracy:76.785, Testing Loss 0.000, Testing Accuracy:98.730\n",
            "Epoch 10/20, Training Loss:1.145, Training Accuracy:76.608, Testing Loss 0.000, Testing Accuracy:98.720\n",
            "Epoch 11/20, Training Loss:1.151, Training Accuracy:76.777, Testing Loss 0.000, Testing Accuracy:98.810\n",
            "Epoch 12/20, Training Loss:1.135, Training Accuracy:77.267, Testing Loss 0.000, Testing Accuracy:98.790\n",
            "Epoch 13/20, Training Loss:1.133, Training Accuracy:77.260, Testing Loss 0.000, Testing Accuracy:98.830\n",
            "Epoch 14/20, Training Loss:1.117, Training Accuracy:77.842, Testing Loss 0.000, Testing Accuracy:98.900\n",
            "Epoch 15/20, Training Loss:1.127, Training Accuracy:77.690, Testing Loss 0.000, Testing Accuracy:98.920\n",
            "Epoch 16/20, Training Loss:1.123, Training Accuracy:77.707, Testing Loss 0.000, Testing Accuracy:98.960\n",
            "Epoch 17/20, Training Loss:1.123, Training Accuracy:77.598, Testing Loss 0.000, Testing Accuracy:98.950\n",
            "Epoch 18/20, Training Loss:1.128, Training Accuracy:77.658, Testing Loss 0.000, Testing Accuracy:99.030\n",
            "Epoch 19/20, Training Loss:1.126, Training Accuracy:77.728, Testing Loss 0.000, Testing Accuracy:98.780\n",
            "Epoch 20/20, Training Loss:1.113, Training Accuracy:78.073, Testing Loss 0.000, Testing Accuracy:99.020\n"
          ],
          "name": "stdout"
        }
      ]
    },
    {
      "cell_type": "markdown",
      "metadata": {
        "id": "EHCBpUbZVNdx"
      },
      "source": [
        "#Evaluate"
      ]
    },
    {
      "cell_type": "code",
      "metadata": {
        "colab": {
          "base_uri": "https://localhost:8080/",
          "height": 592
        },
        "id": "vL8_eYyDVQJN",
        "outputId": "225defbb-358f-4467-b91e-8de089ad4368"
      },
      "source": [
        "# Loss\n",
        "f=plt.figure(figsize=(10,10))\n",
        "plt.plot(train_loss, label='Training Loss')\n",
        "plt.plot(test_loss, label='Testing Loss')\n",
        "plt.legend()\n",
        "plt.show()\n"
      ],
      "execution_count": 15,
      "outputs": [
        {
          "output_type": "display_data",
          "data": {
            "image/png": "[encoded data removed]",
            "text/plain": [
              "<Figure size 720x720 with 1 Axes>"
            ]
          },
          "metadata": {
            "tags": [],
            "needs_background": "light"
          }
        }
      ]
    },
    {
      "cell_type": "code",
      "metadata": {
        "colab": {
          "base_uri": "https://localhost:8080/",
          "height": 592
        },
        "id": "pIm3ez9zVS8Y",
        "outputId": "824327fe-7b1c-40c3-f415-0ae8821d842e"
      },
      "source": [
        "# Accuracy\n",
        "f=plt.figure(figsize=(10,10))\n",
        "plt.plot(train_accuracy, label='Training Accuracy')\n",
        "plt.plot(test_accuracy, label='Testing Accuracy')\n",
        "plt.legend()\n",
        "plt.show()"
      ],
      "execution_count": 16,
      "outputs": [
        {
          "output_type": "display_data",
          "data": {
            "image/png": "[encoded data removed]",
            "text/plain": [
              "<Figure size 720x720 with 1 Axes>"
            ]
          },
          "metadata": {
            "tags": [],
            "needs_background": "light"
          }
        }
      ]
    },
    {
      "cell_type": "code",
      "metadata": {
        "colab": {
          "base_uri": "https://localhost:8080/"
        },
        "id": "_WQ9KRdEVV9P",
        "outputId": "e93f912c-1b14-4156-cc92-932866ee9116"
      },
      "source": [
        "#Predictions\n",
        "img= test_dataset[40][0].resize_((1,1,28,28))\n",
        "img= Variable(img)\n",
        "label= test_dataset[40][1]\n",
        "\n",
        "model.eval()\n",
        "\n",
        "if torch.cuda.is_available():\n",
        "  model=model.cuda()\n",
        "  img=img.cuda()\n",
        "  \n",
        "output=model(img)\n",
        "print(output)\n",
        "print(output.data)\n",
        "_,predicted=torch.max(output,1)\n",
        "print(\"Prediction is:\",predicted.item())\n",
        "print(\"Actual is:\", label)"
      ],
      "execution_count": 17,
      "outputs": [
        {
          "output_type": "stream",
          "text": [
            "tensor([[-4.9688,  7.1342, -4.7186, -3.9518, -3.0386, -1.8340, -4.2680, -1.9943,\n",
            "         -1.0925, -3.1670, -4.3051, -4.2276, -4.2761, -4.4633, -4.2537, -4.0194,\n",
            "         -4.3856, -4.3918, -4.4933, -4.3329, -4.2829, -4.2102, -4.5793, -4.5850,\n",
            "         -4.5870, -4.3130, -4.2574, -4.5403, -4.0683, -4.0037, -4.6935, -4.3405,\n",
            "         -4.4164, -4.3016, -4.3014, -4.1349, -4.2207, -4.5730, -4.3950, -3.7859,\n",
            "         -4.2198, -4.5133, -4.2992, -4.2731, -4.2520, -4.4658, -4.2202, -4.1471,\n",
            "         -4.0488, -4.7463, -4.7945, -5.0983, -4.3908, -4.5268, -4.5103, -4.5275,\n",
            "         -4.4082, -4.2700, -4.2635, -4.5435, -4.6953, -3.9484, -3.9813, -4.4668,\n",
            "         -4.3467, -4.4676, -4.9060, -4.1321, -4.4584, -4.3266, -4.1345, -4.0821,\n",
            "         -4.3504, -4.0469, -4.2124, -4.1495, -4.2747, -4.5275, -4.8236, -4.7504,\n",
            "         -4.5516, -4.0600, -4.0057, -3.9906, -4.0445, -4.3181, -4.2446, -4.2715,\n",
            "         -4.3147, -4.4481, -4.1309, -4.5952, -3.9974, -4.2644, -4.8488, -4.1759,\n",
            "         -4.0550, -4.3597, -4.4537, -4.8693, -4.2999, -4.5357, -4.5022, -4.2588,\n",
            "         -4.2396, -4.0407, -4.5176, -4.8885, -4.1462, -4.4414, -4.4713, -4.7352,\n",
            "         -4.2717, -4.1481, -4.2041, -4.2287, -4.7837, -4.2466, -4.1103, -3.8572]],\n",
            "       device='cuda:0', grad_fn=<AddmmBackward>)\n",
            "tensor([[-4.9688,  7.1342, -4.7186, -3.9518, -3.0386, -1.8340, -4.2680, -1.9943,\n",
            "         -1.0925, -3.1670, -4.3051, -4.2276, -4.2761, -4.4633, -4.2537, -4.0194,\n",
            "         -4.3856, -4.3918, -4.4933, -4.3329, -4.2829, -4.2102, -4.5793, -4.5850,\n",
            "         -4.5870, -4.3130, -4.2574, -4.5403, -4.0683, -4.0037, -4.6935, -4.3405,\n",
            "         -4.4164, -4.3016, -4.3014, -4.1349, -4.2207, -4.5730, -4.3950, -3.7859,\n",
            "         -4.2198, -4.5133, -4.2992, -4.2731, -4.2520, -4.4658, -4.2202, -4.1471,\n",
            "         -4.0488, -4.7463, -4.7945, -5.0983, -4.3908, -4.5268, -4.5103, -4.5275,\n",
            "         -4.4082, -4.2700, -4.2635, -4.5435, -4.6953, -3.9484, -3.9813, -4.4668,\n",
            "         -4.3467, -4.4676, -4.9060, -4.1321, -4.4584, -4.3266, -4.1345, -4.0821,\n",
            "         -4.3504, -4.0469, -4.2124, -4.1495, -4.2747, -4.5275, -4.8236, -4.7504,\n",
            "         -4.5516, -4.0600, -4.0057, -3.9906, -4.0445, -4.3181, -4.2446, -4.2715,\n",
            "         -4.3147, -4.4481, -4.1309, -4.5952, -3.9974, -4.2644, -4.8488, -4.1759,\n",
            "         -4.0550, -4.3597, -4.4537, -4.8693, -4.2999, -4.5357, -4.5022, -4.2588,\n",
            "         -4.2396, -4.0407, -4.5176, -4.8885, -4.1462, -4.4414, -4.4713, -4.7352,\n",
            "         -4.2717, -4.1481, -4.2041, -4.2287, -4.7837, -4.2466, -4.1103, -3.8572]],\n",
            "       device='cuda:0')\n",
            "Prediction is: 1\n",
            "Actual is: 1\n"
          ],
          "name": "stdout"
        }
      ]
    }
  ]
}